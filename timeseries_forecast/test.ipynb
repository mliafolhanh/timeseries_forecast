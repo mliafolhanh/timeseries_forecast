{
 "cells": [
  {
   "cell_type": "code",
   "execution_count": 6,
   "metadata": {},
   "outputs": [],
   "source": [
    "import datalabframework\n",
    "from pyspark.sql.functions import col\n",
    "import pyspark.sql.functions as F\n",
    "import pyspark.sql.types as T\n",
    "from pyspark.sql import Window\n",
    "from datalabframework.spark.utils import unidecode\n",
    "import pandas as pd\n",
    "import os\n",
    "from datalabframework.spark import dataframe\n",
    "import numpy as np\n",
    "os.environ['PYSPARK_PYTHON'] = '/opt/conda/bin/python'\n",
    "import matplotlib.pyplot as plt\n",
    "import warnings\n",
    "warnings.filterwarnings('ignore')\n",
    "from models import *\n",
    "import seaborn as sns\n",
    "import pickle\n",
    "from elastictools.doctools import DocTools\n",
    "import json"
   ]
  },
  {
   "cell_type": "code",
   "execution_count": 2,
   "metadata": {},
   "outputs": [
    {
     "data": {
      "text/plain": [
       "{'x': 3, 'y': 5}"
      ]
     },
     "execution_count": 2,
     "metadata": {},
     "output_type": "execute_result"
    }
   ],
   "source": [
    "a = {'x': 3, 'y' : None}\n",
    "a.update({'y': 5})\n",
    "a"
   ]
  },
  {
   "cell_type": "code",
   "execution_count": 3,
   "metadata": {},
   "outputs": [
    {
     "data": {
      "text/plain": [
       "[None, None, None]"
      ]
     },
     "execution_count": 3,
     "metadata": {},
     "output_type": "execute_result"
    }
   ],
   "source": [
    "[None] * 3"
   ]
  },
  {
   "cell_type": "code",
   "execution_count": 7,
   "metadata": {},
   "outputs": [
    {
     "ename": "Py4JJavaError",
     "evalue": "An error occurred while calling None.org.apache.spark.sql.SparkSession.\n: java.lang.IllegalStateException: Cannot call methods on a stopped SparkContext.\nThis stopped SparkContext was created at:\n\norg.apache.spark.api.java.JavaSparkContext.<init>(JavaSparkContext.scala:58)\nsun.reflect.NativeConstructorAccessorImpl.newInstance0(Native Method)\nsun.reflect.NativeConstructorAccessorImpl.newInstance(NativeConstructorAccessorImpl.java:62)\nsun.reflect.DelegatingConstructorAccessorImpl.newInstance(DelegatingConstructorAccessorImpl.java:45)\njava.lang.reflect.Constructor.newInstance(Constructor.java:423)\npy4j.reflection.MethodInvoker.invoke(MethodInvoker.java:247)\npy4j.reflection.ReflectionEngine.invoke(ReflectionEngine.java:357)\npy4j.Gateway.invoke(Gateway.java:238)\npy4j.commands.ConstructorCommand.invokeConstructor(ConstructorCommand.java:80)\npy4j.commands.ConstructorCommand.execute(ConstructorCommand.java:69)\npy4j.GatewayConnection.run(GatewayConnection.java:238)\njava.lang.Thread.run(Thread.java:748)\n\nThe currently active SparkContext was created at:\n\norg.apache.spark.api.java.JavaSparkContext.<init>(JavaSparkContext.scala:58)\nsun.reflect.NativeConstructorAccessorImpl.newInstance0(Native Method)\nsun.reflect.NativeConstructorAccessorImpl.newInstance(NativeConstructorAccessorImpl.java:62)\nsun.reflect.DelegatingConstructorAccessorImpl.newInstance(DelegatingConstructorAccessorImpl.java:45)\njava.lang.reflect.Constructor.newInstance(Constructor.java:423)\npy4j.reflection.MethodInvoker.invoke(MethodInvoker.java:247)\npy4j.reflection.ReflectionEngine.invoke(ReflectionEngine.java:357)\npy4j.Gateway.invoke(Gateway.java:238)\npy4j.commands.ConstructorCommand.invokeConstructor(ConstructorCommand.java:80)\npy4j.commands.ConstructorCommand.execute(ConstructorCommand.java:69)\npy4j.GatewayConnection.run(GatewayConnection.java:238)\njava.lang.Thread.run(Thread.java:748)\n         \n\tat org.apache.spark.SparkContext.assertNotStopped(SparkContext.scala:100)\n\tat org.apache.spark.sql.SparkSession.<init>(SparkSession.scala:91)\n\tat org.apache.spark.sql.SparkSession.<init>(SparkSession.scala:88)\n\tat sun.reflect.NativeConstructorAccessorImpl.newInstance0(Native Method)\n\tat sun.reflect.NativeConstructorAccessorImpl.newInstance(NativeConstructorAccessorImpl.java:62)\n\tat sun.reflect.DelegatingConstructorAccessorImpl.newInstance(DelegatingConstructorAccessorImpl.java:45)\n\tat java.lang.reflect.Constructor.newInstance(Constructor.java:423)\n\tat py4j.reflection.MethodInvoker.invoke(MethodInvoker.java:247)\n\tat py4j.reflection.ReflectionEngine.invoke(ReflectionEngine.java:357)\n\tat py4j.Gateway.invoke(Gateway.java:238)\n\tat py4j.commands.ConstructorCommand.invokeConstructor(ConstructorCommand.java:80)\n\tat py4j.commands.ConstructorCommand.execute(ConstructorCommand.java:69)\n\tat py4j.GatewayConnection.run(GatewayConnection.java:238)\n\tat java.lang.Thread.run(Thread.java:748)\n",
     "output_type": "error",
     "traceback": [
      "\u001b[0;31m---------------------------------------------------------------------------\u001b[0m",
      "\u001b[0;31mPy4JJavaError\u001b[0m                             Traceback (most recent call last)",
      "\u001b[0;32m<ipython-input-7-24e55cfd045a>\u001b[0m in \u001b[0;36m<module>\u001b[0;34m\u001b[0m\n\u001b[1;32m      1\u001b[0m \u001b[0;31m#load fact\u001b[0m\u001b[0;34m\u001b[0m\u001b[0;34m\u001b[0m\u001b[0;34m\u001b[0m\u001b[0m\n\u001b[0;32m----> 2\u001b[0;31m \u001b[0mdatalabframework\u001b[0m\u001b[0;34m.\u001b[0m\u001b[0mproject\u001b[0m\u001b[0;34m.\u001b[0m\u001b[0mload\u001b[0m\u001b[0;34m(\u001b[0m\u001b[0;34m)\u001b[0m\u001b[0;34m\u001b[0m\u001b[0;34m\u001b[0m\u001b[0m\n\u001b[0m",
      "\u001b[0;32m/opt/conda/lib/python3.6/site-packages/datalabframework/project.py\u001b[0m in \u001b[0;36mload\u001b[0;34m(profile, rootdir_path, search_parent_dirs, dotenv_path)\u001b[0m\n\u001b[1;32m     24\u001b[0m     \u001b[0;34m:\u001b[0m\u001b[0;32mreturn\u001b[0m\u001b[0;34m:\u001b[0m \u001b[0mconfig\u001b[0m \u001b[0mproject\u001b[0m \u001b[0mobject\u001b[0m\u001b[0;34m\u001b[0m\u001b[0;34m\u001b[0m\u001b[0m\n\u001b[1;32m     25\u001b[0m     \"\"\"\n\u001b[0;32m---> 26\u001b[0;31m     \u001b[0;32mreturn\u001b[0m \u001b[0mProject\u001b[0m\u001b[0;34m(\u001b[0m\u001b[0;34m)\u001b[0m\u001b[0;34m.\u001b[0m\u001b[0mload\u001b[0m\u001b[0;34m(\u001b[0m\u001b[0mprofile\u001b[0m\u001b[0;34m,\u001b[0m \u001b[0mrootdir_path\u001b[0m\u001b[0;34m,\u001b[0m \u001b[0msearch_parent_dirs\u001b[0m\u001b[0;34m,\u001b[0m \u001b[0mdotenv_path\u001b[0m\u001b[0;34m)\u001b[0m\u001b[0;34m\u001b[0m\u001b[0;34m\u001b[0m\u001b[0m\n\u001b[0m\u001b[1;32m     27\u001b[0m \u001b[0;34m\u001b[0m\u001b[0m\n\u001b[1;32m     28\u001b[0m \u001b[0;32mdef\u001b[0m \u001b[0mconfig\u001b[0m\u001b[0;34m(\u001b[0m\u001b[0;34m)\u001b[0m\u001b[0;34m:\u001b[0m\u001b[0;34m\u001b[0m\u001b[0;34m\u001b[0m\u001b[0m\n",
      "\u001b[0;32m/opt/conda/lib/python3.6/site-packages/datalabframework/_project.py\u001b[0m in \u001b[0;36mload\u001b[0;34m(self, profile, rootdir_path, search_parent_dirs, dotenv_path)\u001b[0m\n\u001b[1;32m     95\u001b[0m             \u001b[0mself\u001b[0m\u001b[0;34m.\u001b[0m\u001b[0m_engine\u001b[0m\u001b[0;34m.\u001b[0m\u001b[0mstop\u001b[0m\u001b[0;34m(\u001b[0m\u001b[0;34m)\u001b[0m\u001b[0;34m\u001b[0m\u001b[0;34m\u001b[0m\u001b[0m\n\u001b[1;32m     96\u001b[0m \u001b[0;34m\u001b[0m\u001b[0m\n\u001b[0;32m---> 97\u001b[0;31m         \u001b[0mself\u001b[0m\u001b[0;34m.\u001b[0m\u001b[0m_engine\u001b[0m \u001b[0;34m=\u001b[0m \u001b[0mengine\u001b[0m\u001b[0;34m.\u001b[0m\u001b[0mget\u001b[0m\u001b[0;34m(\u001b[0m\u001b[0mjobname\u001b[0m\u001b[0;34m,\u001b[0m \u001b[0mself\u001b[0m\u001b[0;34m.\u001b[0m\u001b[0m_metadata\u001b[0m\u001b[0;34m,\u001b[0m \u001b[0mpaths\u001b[0m\u001b[0;34m.\u001b[0m\u001b[0mrootdir\u001b[0m\u001b[0;34m(\u001b[0m\u001b[0;34m)\u001b[0m\u001b[0;34m)\u001b[0m\u001b[0;34m\u001b[0m\u001b[0;34m\u001b[0m\u001b[0m\n\u001b[0m\u001b[1;32m     98\u001b[0m \u001b[0;34m\u001b[0m\u001b[0m\n\u001b[1;32m     99\u001b[0m         \u001b[0;31m# get all project info\u001b[0m\u001b[0;34m\u001b[0m\u001b[0;34m\u001b[0m\u001b[0;34m\u001b[0m\u001b[0m\n",
      "\u001b[0;32m/opt/conda/lib/python3.6/site-packages/datalabframework/engine.py\u001b[0m in \u001b[0;36mget\u001b[0;34m(name, md, rootdir)\u001b[0m\n\u001b[1;32m    573\u001b[0m \u001b[0;34m\u001b[0m\u001b[0m\n\u001b[1;32m    574\u001b[0m     \u001b[0;32mif\u001b[0m \u001b[0mmd\u001b[0m\u001b[0;34m.\u001b[0m\u001b[0mget\u001b[0m\u001b[0;34m(\u001b[0m\u001b[0;34m'engine'\u001b[0m\u001b[0;34m,\u001b[0m \u001b[0;34m{\u001b[0m\u001b[0;34m}\u001b[0m\u001b[0;34m)\u001b[0m\u001b[0;34m.\u001b[0m\u001b[0mget\u001b[0m\u001b[0;34m(\u001b[0m\u001b[0;34m'type'\u001b[0m\u001b[0;34m)\u001b[0m \u001b[0;34m==\u001b[0m \u001b[0;34m'spark'\u001b[0m\u001b[0;34m:\u001b[0m\u001b[0;34m\u001b[0m\u001b[0;34m\u001b[0m\u001b[0m\n\u001b[0;32m--> 575\u001b[0;31m         \u001b[0mengine\u001b[0m \u001b[0;34m=\u001b[0m \u001b[0mSparkEngine\u001b[0m\u001b[0;34m(\u001b[0m\u001b[0mname\u001b[0m\u001b[0;34m,\u001b[0m \u001b[0mmd\u001b[0m\u001b[0;34m,\u001b[0m \u001b[0mrootdir\u001b[0m\u001b[0;34m)\u001b[0m\u001b[0;34m\u001b[0m\u001b[0;34m\u001b[0m\u001b[0m\n\u001b[0m\u001b[1;32m    576\u001b[0m \u001b[0;34m\u001b[0m\u001b[0m\n\u001b[1;32m    577\u001b[0m     \u001b[0;31m# if md.get('engine', {}).get('type') == 'pandas':\u001b[0m\u001b[0;34m\u001b[0m\u001b[0;34m\u001b[0m\u001b[0;34m\u001b[0m\u001b[0m\n",
      "\u001b[0;32m/opt/conda/lib/python3.6/site-packages/datalabframework/engine.py\u001b[0m in \u001b[0;36m__init__\u001b[0;34m(self, name, md, rootdir)\u001b[0m\n\u001b[1;32m    210\u001b[0m \u001b[0;34m\u001b[0m\u001b[0m\n\u001b[1;32m    211\u001b[0m         \u001b[0;31m# store the sql context\u001b[0m\u001b[0;34m\u001b[0m\u001b[0;34m\u001b[0m\u001b[0;34m\u001b[0m\u001b[0m\n\u001b[0;32m--> 212\u001b[0;31m         \u001b[0mself\u001b[0m\u001b[0;34m.\u001b[0m\u001b[0m_ctx\u001b[0m \u001b[0;34m=\u001b[0m \u001b[0mpyspark\u001b[0m\u001b[0;34m.\u001b[0m\u001b[0mSQLContext\u001b[0m\u001b[0;34m(\u001b[0m\u001b[0msc\u001b[0m\u001b[0;34m)\u001b[0m\u001b[0;34m\u001b[0m\u001b[0;34m\u001b[0m\u001b[0m\n\u001b[0m\u001b[1;32m    213\u001b[0m \u001b[0;34m\u001b[0m\u001b[0m\n\u001b[1;32m    214\u001b[0m     \u001b[0;32mdef\u001b[0m \u001b[0mstop\u001b[0m\u001b[0;34m(\u001b[0m\u001b[0mself\u001b[0m\u001b[0;34m)\u001b[0m\u001b[0;34m:\u001b[0m\u001b[0;34m\u001b[0m\u001b[0;34m\u001b[0m\u001b[0m\n",
      "\u001b[0;32m/opt/spark/python/pyspark/sql/context.py\u001b[0m in \u001b[0;36m__init__\u001b[0;34m(self, sparkContext, sparkSession, jsqlContext)\u001b[0m\n\u001b[1;32m     75\u001b[0m         \u001b[0mself\u001b[0m\u001b[0;34m.\u001b[0m\u001b[0m_jvm\u001b[0m \u001b[0;34m=\u001b[0m \u001b[0mself\u001b[0m\u001b[0;34m.\u001b[0m\u001b[0m_sc\u001b[0m\u001b[0;34m.\u001b[0m\u001b[0m_jvm\u001b[0m\u001b[0;34m\u001b[0m\u001b[0;34m\u001b[0m\u001b[0m\n\u001b[1;32m     76\u001b[0m         \u001b[0;32mif\u001b[0m \u001b[0msparkSession\u001b[0m \u001b[0;32mis\u001b[0m \u001b[0;32mNone\u001b[0m\u001b[0;34m:\u001b[0m\u001b[0;34m\u001b[0m\u001b[0;34m\u001b[0m\u001b[0m\n\u001b[0;32m---> 77\u001b[0;31m             \u001b[0msparkSession\u001b[0m \u001b[0;34m=\u001b[0m \u001b[0mSparkSession\u001b[0m\u001b[0;34m.\u001b[0m\u001b[0mbuilder\u001b[0m\u001b[0;34m.\u001b[0m\u001b[0mgetOrCreate\u001b[0m\u001b[0;34m(\u001b[0m\u001b[0;34m)\u001b[0m\u001b[0;34m\u001b[0m\u001b[0;34m\u001b[0m\u001b[0m\n\u001b[0m\u001b[1;32m     78\u001b[0m         \u001b[0;32mif\u001b[0m \u001b[0mjsqlContext\u001b[0m \u001b[0;32mis\u001b[0m \u001b[0;32mNone\u001b[0m\u001b[0;34m:\u001b[0m\u001b[0;34m\u001b[0m\u001b[0;34m\u001b[0m\u001b[0m\n\u001b[1;32m     79\u001b[0m             \u001b[0mjsqlContext\u001b[0m \u001b[0;34m=\u001b[0m \u001b[0msparkSession\u001b[0m\u001b[0;34m.\u001b[0m\u001b[0m_jwrapped\u001b[0m\u001b[0;34m\u001b[0m\u001b[0;34m\u001b[0m\u001b[0m\n",
      "\u001b[0;32m/opt/spark/python/pyspark/sql/session.py\u001b[0m in \u001b[0;36mgetOrCreate\u001b[0;34m(self)\u001b[0m\n\u001b[1;32m    179\u001b[0m                         \u001b[0;31m# these confs cannot be changed once the SparkSession is created).\u001b[0m\u001b[0;34m\u001b[0m\u001b[0;34m\u001b[0m\u001b[0;34m\u001b[0m\u001b[0m\n\u001b[1;32m    180\u001b[0m                         \u001b[0msc\u001b[0m\u001b[0;34m.\u001b[0m\u001b[0m_conf\u001b[0m\u001b[0;34m.\u001b[0m\u001b[0mset\u001b[0m\u001b[0;34m(\u001b[0m\u001b[0mkey\u001b[0m\u001b[0;34m,\u001b[0m \u001b[0mvalue\u001b[0m\u001b[0;34m)\u001b[0m\u001b[0;34m\u001b[0m\u001b[0;34m\u001b[0m\u001b[0m\n\u001b[0;32m--> 181\u001b[0;31m                     \u001b[0msession\u001b[0m \u001b[0;34m=\u001b[0m \u001b[0mSparkSession\u001b[0m\u001b[0;34m(\u001b[0m\u001b[0msc\u001b[0m\u001b[0;34m)\u001b[0m\u001b[0;34m\u001b[0m\u001b[0;34m\u001b[0m\u001b[0m\n\u001b[0m\u001b[1;32m    182\u001b[0m                 \u001b[0;32mfor\u001b[0m \u001b[0mkey\u001b[0m\u001b[0;34m,\u001b[0m \u001b[0mvalue\u001b[0m \u001b[0;32min\u001b[0m \u001b[0mself\u001b[0m\u001b[0;34m.\u001b[0m\u001b[0m_options\u001b[0m\u001b[0;34m.\u001b[0m\u001b[0mitems\u001b[0m\u001b[0;34m(\u001b[0m\u001b[0;34m)\u001b[0m\u001b[0;34m:\u001b[0m\u001b[0;34m\u001b[0m\u001b[0;34m\u001b[0m\u001b[0m\n\u001b[1;32m    183\u001b[0m                     \u001b[0msession\u001b[0m\u001b[0;34m.\u001b[0m\u001b[0m_jsparkSession\u001b[0m\u001b[0;34m.\u001b[0m\u001b[0msessionState\u001b[0m\u001b[0;34m(\u001b[0m\u001b[0;34m)\u001b[0m\u001b[0;34m.\u001b[0m\u001b[0mconf\u001b[0m\u001b[0;34m(\u001b[0m\u001b[0;34m)\u001b[0m\u001b[0;34m.\u001b[0m\u001b[0msetConfString\u001b[0m\u001b[0;34m(\u001b[0m\u001b[0mkey\u001b[0m\u001b[0;34m,\u001b[0m \u001b[0mvalue\u001b[0m\u001b[0;34m)\u001b[0m\u001b[0;34m\u001b[0m\u001b[0;34m\u001b[0m\u001b[0m\n",
      "\u001b[0;32m/opt/spark/python/pyspark/sql/session.py\u001b[0m in \u001b[0;36m__init__\u001b[0;34m(self, sparkContext, jsparkSession)\u001b[0m\n\u001b[1;32m    219\u001b[0m                 \u001b[0mjsparkSession\u001b[0m \u001b[0;34m=\u001b[0m \u001b[0mself\u001b[0m\u001b[0;34m.\u001b[0m\u001b[0m_jvm\u001b[0m\u001b[0;34m.\u001b[0m\u001b[0mSparkSession\u001b[0m\u001b[0;34m.\u001b[0m\u001b[0mgetDefaultSession\u001b[0m\u001b[0;34m(\u001b[0m\u001b[0;34m)\u001b[0m\u001b[0;34m.\u001b[0m\u001b[0mget\u001b[0m\u001b[0;34m(\u001b[0m\u001b[0;34m)\u001b[0m\u001b[0;34m\u001b[0m\u001b[0;34m\u001b[0m\u001b[0m\n\u001b[1;32m    220\u001b[0m             \u001b[0;32melse\u001b[0m\u001b[0;34m:\u001b[0m\u001b[0;34m\u001b[0m\u001b[0;34m\u001b[0m\u001b[0m\n\u001b[0;32m--> 221\u001b[0;31m                 \u001b[0mjsparkSession\u001b[0m \u001b[0;34m=\u001b[0m \u001b[0mself\u001b[0m\u001b[0;34m.\u001b[0m\u001b[0m_jvm\u001b[0m\u001b[0;34m.\u001b[0m\u001b[0mSparkSession\u001b[0m\u001b[0;34m(\u001b[0m\u001b[0mself\u001b[0m\u001b[0;34m.\u001b[0m\u001b[0m_jsc\u001b[0m\u001b[0;34m.\u001b[0m\u001b[0msc\u001b[0m\u001b[0;34m(\u001b[0m\u001b[0;34m)\u001b[0m\u001b[0;34m)\u001b[0m\u001b[0;34m\u001b[0m\u001b[0;34m\u001b[0m\u001b[0m\n\u001b[0m\u001b[1;32m    222\u001b[0m         \u001b[0mself\u001b[0m\u001b[0;34m.\u001b[0m\u001b[0m_jsparkSession\u001b[0m \u001b[0;34m=\u001b[0m \u001b[0mjsparkSession\u001b[0m\u001b[0;34m\u001b[0m\u001b[0;34m\u001b[0m\u001b[0m\n\u001b[1;32m    223\u001b[0m         \u001b[0mself\u001b[0m\u001b[0;34m.\u001b[0m\u001b[0m_jwrapped\u001b[0m \u001b[0;34m=\u001b[0m \u001b[0mself\u001b[0m\u001b[0;34m.\u001b[0m\u001b[0m_jsparkSession\u001b[0m\u001b[0;34m.\u001b[0m\u001b[0msqlContext\u001b[0m\u001b[0;34m(\u001b[0m\u001b[0;34m)\u001b[0m\u001b[0;34m\u001b[0m\u001b[0;34m\u001b[0m\u001b[0m\n",
      "\u001b[0;32m/opt/spark/python/lib/py4j-0.10.7-src.zip/py4j/java_gateway.py\u001b[0m in \u001b[0;36m__call__\u001b[0;34m(self, *args)\u001b[0m\n\u001b[1;32m   1523\u001b[0m         \u001b[0manswer\u001b[0m \u001b[0;34m=\u001b[0m \u001b[0mself\u001b[0m\u001b[0;34m.\u001b[0m\u001b[0m_gateway_client\u001b[0m\u001b[0;34m.\u001b[0m\u001b[0msend_command\u001b[0m\u001b[0;34m(\u001b[0m\u001b[0mcommand\u001b[0m\u001b[0;34m)\u001b[0m\u001b[0;34m\u001b[0m\u001b[0;34m\u001b[0m\u001b[0m\n\u001b[1;32m   1524\u001b[0m         return_value = get_return_value(\n\u001b[0;32m-> 1525\u001b[0;31m             answer, self._gateway_client, None, self._fqn)\n\u001b[0m\u001b[1;32m   1526\u001b[0m \u001b[0;34m\u001b[0m\u001b[0m\n\u001b[1;32m   1527\u001b[0m         \u001b[0;32mfor\u001b[0m \u001b[0mtemp_arg\u001b[0m \u001b[0;32min\u001b[0m \u001b[0mtemp_args\u001b[0m\u001b[0;34m:\u001b[0m\u001b[0;34m\u001b[0m\u001b[0;34m\u001b[0m\u001b[0m\n",
      "\u001b[0;32m/opt/spark/python/lib/py4j-0.10.7-src.zip/py4j/protocol.py\u001b[0m in \u001b[0;36mget_return_value\u001b[0;34m(answer, gateway_client, target_id, name)\u001b[0m\n\u001b[1;32m    326\u001b[0m                 raise Py4JJavaError(\n\u001b[1;32m    327\u001b[0m                     \u001b[0;34m\"An error occurred while calling {0}{1}{2}.\\n\"\u001b[0m\u001b[0;34m.\u001b[0m\u001b[0;34m\u001b[0m\u001b[0;34m\u001b[0m\u001b[0m\n\u001b[0;32m--> 328\u001b[0;31m                     format(target_id, \".\", name), value)\n\u001b[0m\u001b[1;32m    329\u001b[0m             \u001b[0;32melse\u001b[0m\u001b[0;34m:\u001b[0m\u001b[0;34m\u001b[0m\u001b[0;34m\u001b[0m\u001b[0m\n\u001b[1;32m    330\u001b[0m                 raise Py4JError(\n",
      "\u001b[0;31mPy4JJavaError\u001b[0m: An error occurred while calling None.org.apache.spark.sql.SparkSession.\n: java.lang.IllegalStateException: Cannot call methods on a stopped SparkContext.\nThis stopped SparkContext was created at:\n\norg.apache.spark.api.java.JavaSparkContext.<init>(JavaSparkContext.scala:58)\nsun.reflect.NativeConstructorAccessorImpl.newInstance0(Native Method)\nsun.reflect.NativeConstructorAccessorImpl.newInstance(NativeConstructorAccessorImpl.java:62)\nsun.reflect.DelegatingConstructorAccessorImpl.newInstance(DelegatingConstructorAccessorImpl.java:45)\njava.lang.reflect.Constructor.newInstance(Constructor.java:423)\npy4j.reflection.MethodInvoker.invoke(MethodInvoker.java:247)\npy4j.reflection.ReflectionEngine.invoke(ReflectionEngine.java:357)\npy4j.Gateway.invoke(Gateway.java:238)\npy4j.commands.ConstructorCommand.invokeConstructor(ConstructorCommand.java:80)\npy4j.commands.ConstructorCommand.execute(ConstructorCommand.java:69)\npy4j.GatewayConnection.run(GatewayConnection.java:238)\njava.lang.Thread.run(Thread.java:748)\n\nThe currently active SparkContext was created at:\n\norg.apache.spark.api.java.JavaSparkContext.<init>(JavaSparkContext.scala:58)\nsun.reflect.NativeConstructorAccessorImpl.newInstance0(Native Method)\nsun.reflect.NativeConstructorAccessorImpl.newInstance(NativeConstructorAccessorImpl.java:62)\nsun.reflect.DelegatingConstructorAccessorImpl.newInstance(DelegatingConstructorAccessorImpl.java:45)\njava.lang.reflect.Constructor.newInstance(Constructor.java:423)\npy4j.reflection.MethodInvoker.invoke(MethodInvoker.java:247)\npy4j.reflection.ReflectionEngine.invoke(ReflectionEngine.java:357)\npy4j.Gateway.invoke(Gateway.java:238)\npy4j.commands.ConstructorCommand.invokeConstructor(ConstructorCommand.java:80)\npy4j.commands.ConstructorCommand.execute(ConstructorCommand.java:69)\npy4j.GatewayConnection.run(GatewayConnection.java:238)\njava.lang.Thread.run(Thread.java:748)\n         \n\tat org.apache.spark.SparkContext.assertNotStopped(SparkContext.scala:100)\n\tat org.apache.spark.sql.SparkSession.<init>(SparkSession.scala:91)\n\tat org.apache.spark.sql.SparkSession.<init>(SparkSession.scala:88)\n\tat sun.reflect.NativeConstructorAccessorImpl.newInstance0(Native Method)\n\tat sun.reflect.NativeConstructorAccessorImpl.newInstance(NativeConstructorAccessorImpl.java:62)\n\tat sun.reflect.DelegatingConstructorAccessorImpl.newInstance(DelegatingConstructorAccessorImpl.java:45)\n\tat java.lang.reflect.Constructor.newInstance(Constructor.java:423)\n\tat py4j.reflection.MethodInvoker.invoke(MethodInvoker.java:247)\n\tat py4j.reflection.ReflectionEngine.invoke(ReflectionEngine.java:357)\n\tat py4j.Gateway.invoke(Gateway.java:238)\n\tat py4j.commands.ConstructorCommand.invokeConstructor(ConstructorCommand.java:80)\n\tat py4j.commands.ConstructorCommand.execute(ConstructorCommand.java:69)\n\tat py4j.GatewayConnection.run(GatewayConnection.java:238)\n\tat java.lang.Thread.run(Thread.java:748)\n"
     ]
    }
   ],
   "source": [
    "#load fact\n",
    "datalabframework.project.load()"
   ]
  },
  {
   "cell_type": "code",
   "execution_count": null,
   "metadata": {},
   "outputs": [],
   "source": [
    "engine = datalabframework.project.engine()\n",
    "spark = engine.context()\n",
    "fact_transaction = engine.load('fact_table').select('sku_id', 'sku_name', 'transaction_date', 'quantity', \\\n",
    "                                                    'doc_type', 'unit_price', 'cat_id', 'cat_group_id', \\\n",
    "                                                    'cat_root_id', 'cat_name', 'cat_group_name', 'cat_root_name', \\\n",
    "                                                    'brand_name', 'brand_id', 'product_state_id')"
   ]
  },
  {
   "cell_type": "code",
   "execution_count": null,
   "metadata": {},
   "outputs": [],
   "source": [
    "#extract quantity \n",
    "product_quantity_date = fact_transaction.where(F.expr('doc_type == \"PTX\"') | F.expr('doc_type == \"HDF\"'))\\\n",
    "                .where(F.expr('unit_price != 0'))\\\n",
    "                .groupby('sku_id', 'sku_name', 'transaction_date', 'cat_id', 'cat_group_id', 'cat_root_id', 'cat_name',\\\n",
    "                         'cat_group_name', 'cat_root_name', 'brand_name', 'brand_id')\\\n",
    "                .agg(F.sum('quantity').alias('daily_quantity'), F.avg('unit_price').alias('daily_price'))\\\n",
    "                .orderBy('transaction_date')"
   ]
  },
  {
   "cell_type": "code",
   "execution_count": 4,
   "metadata": {},
   "outputs": [],
   "source": [
    "product_list = fact_transaction.where(F.col('product_state_id') == 1).select('sku_id', 'sku_name', 'quantity', 'unit_price')\\\n",
    "                .withColumn('revenue', F.col('quantity') * F.col('unit_price'))\\\n",
    "                .groupby('sku_id', 'sku_name').agg(F.sum('revenue').alias('total_revenue'))\\\n",
    "                .sort(F.desc('total_revenue')).toPandas()[['sku_id', 'sku_name']].values"
   ]
  },
  {
   "cell_type": "code",
   "execution_count": 5,
   "metadata": {},
   "outputs": [],
   "source": [
    "product_quantity_date = product_quantity_date.toPandas()\n",
    "product_quantity_date['daily_quantity'] = product_quantity_date['daily_quantity'].astype(np.int64)"
   ]
  },
  {
   "cell_type": "code",
   "execution_count": 6,
   "metadata": {},
   "outputs": [],
   "source": [
    "def select_product(product_quantity_date, sku_id):\n",
    "    total_by_date = product_quantity_date[product_quantity_date['sku_id'] == sku_id]\n",
    "    return total_by_date"
   ]
  },
  {
   "cell_type": "code",
   "execution_count": 7,
   "metadata": {},
   "outputs": [],
   "source": [
    "def clean_data(total_by_date):\n",
    "    \"\"\"\n",
    "    Convert data from spark to pandas, clean data, create dummy variables of \n",
    "    day of week, month of year, day of month.\n",
    "    \n",
    "    Parameters\n",
    "    ----------\n",
    "    total_by_date: Spark.DataFrame\n",
    "        Total sales of a category by date\n",
    "    \n",
    "    Returns\n",
    "    -------\n",
    "    Pandas.DataFrame\n",
    "        Total sales of a category by date with clean the outliers and dummy variables\n",
    "    \"\"\"\n",
    "    start_date = total_by_date['transaction_date'].min()\n",
    "    end_date = total_by_date['transaction_date'].max()\n",
    "    total_by_date = total_by_date.set_index('transaction_date')\n",
    "    full_date = pd.DataFrame({'date_ts':pd.date_range(start_date, end_date)}).set_index('date_ts')\n",
    "    full_quantity_total_product = total_by_date.join(full_date, how = 'right').fillna(0)\n",
    "    full_quantity_total_product['week'] = full_quantity_total_product.index.to_series().dt.week\n",
    "    full_quantity_total_product['year'] = full_quantity_total_product.index.to_series().dt.year\n",
    "    full_quantity_total_product['month'] = full_quantity_total_product.index.to_series().dt.month\n",
    "    full_quantity_total_product['dow'] = full_quantity_total_product.index.to_series().dt.dayofweek\n",
    "    full_quantity_total_product['dom'] = full_quantity_total_product.index.to_series().dt.day\n",
    "    full_quantity_total_product.index.freq = 'D'\n",
    "    agg_week= full_quantity_total_product.groupby('dow').agg({'daily_quantity': 'mean'})\n",
    "    agg_week.columns = ['agg_total_week']\n",
    "    full_quantity_total_product_dummies = pd.get_dummies(full_quantity_total_product, prefix = ['dow', 'moy', 'dom'],\\\n",
    "                                                         columns = ['dow', 'month', 'dom'], drop_first = True)\n",
    "    \n",
    "    return full_quantity_total_product_dummies"
   ]
  },
  {
   "cell_type": "code",
   "execution_count": 8,
   "metadata": {},
   "outputs": [],
   "source": [
    "def forecast_process(data_series, predictor_cols, target_col, model_class, length_test, n_cv = 30):\n",
    "    \"\"\"\n",
    "    All prorecess for validate a model with a series\n",
    "    \n",
    "    Parameters\n",
    "    ----------\n",
    "    data_series: Pandas.Series\n",
    "        A given time series\n",
    "    predictor_cols: array-like\n",
    "        Column names of predictors\n",
    "    target_col: string\n",
    "        Column name of response column\n",
    "    model_class: TimeseriesForecastingModel\n",
    "        Class name of selected model\n",
    "    n_test: int\n",
    "        Number selected period at the end of series for test part\n",
    "    n_cv: int\n",
    "        Number folds for prediction\n",
    "        \n",
    "    Returns\n",
    "    -------\n",
    "    Axes: \n",
    "        Visualization for train, test, validation\n",
    "    Tuple:\n",
    "        Model of forecasting\n",
    "    Pandas.Series:\n",
    "        Error between prediction and actual value on test\n",
    "    Pandas.DataFrame:\n",
    "        Information of errors in cross validation\n",
    "    Dict:\n",
    "        Total error of cross validation\n",
    "    \"\"\"\n",
    "    selected_cols = list(set(predictor_cols).union(set(target_col)))\n",
    "    model = model_class(data_series, predictor_cols, target_col)\n",
    "    model.fit()\n",
    "    list_cv_preds, cv_error, cv_total_error = model.cross_validation(n_cv, length_test)\n",
    "    return cv_error, cv_total_error"
   ]
  },
  {
   "cell_type": "code",
   "execution_count": 25,
   "metadata": {},
   "outputs": [],
   "source": [
    "def all_process_on_timeseries(full_quantity_total_product, models, length_test = 30, n_cv = 30):\n",
    "    all_model = models\n",
    "    using_predictor_col = [SeasonalNaiveModel, UpgradeSeasonModel, SarimaxModel]\n",
    "#     print(full_quantity_total_product)\n",
    "    train_series = full_quantity_total_product.iloc[:-length_test]\n",
    "    test_series = full_quantity_total_product.iloc[-length_test:]\n",
    "    best_model = None\n",
    "    best_mean_error = math.inf\n",
    "    for model_class in all_model:\n",
    "        predictor_cols = []\n",
    "        if (model_class in using_predictor_col):\n",
    "            predictor_cols = [f'dow_{i}' for i in range(1, 7)] + [f'moy_{i}' for i in range(2, 13)]\\\n",
    "                            + [f'dom_{i}' for i in range(1, 32)]\n",
    "            predictor_cols = list(set(predictor_cols).intersection(set(train_series.columns)))\n",
    "        try:\n",
    "            cv_error, cv_total_error = forecast_process(train_series, predictor_cols, ['daily_quantity'], model_class, length_test, n_cv)\n",
    "            if (cv_total_error['MAPE'] < best_mean_error):\n",
    "                best_mean_error = cv_total_error['MAPE']\n",
    "                best_model = model_class\n",
    "        except:\n",
    "            continue\n",
    "    if (best_model in using_predictor_col):\n",
    "        predictor_cols = [f'dow_{i}' for i in range(1, 7)] + [f'moy_{i}' for i in range(2, 13)]\\\n",
    "                            + [f'dom_{i}' for i in range(1, 32)]\n",
    "        predictor_cols = list(set(predictor_cols).intersection(set(full_quantity_total_product.columns)))\n",
    "    if not best_model:\n",
    "        return None, None, None, None, None, None\n",
    "    model = best_model(train_series, predictor_cols, ['daily_quantity'])\n",
    "    model.fit()\n",
    "    preds = model.forecast(test_series.index[0], test_series.index[-1])\n",
    "    preds = preds.round()\n",
    "    test_error, test_total_error = model.measure_error(test_series, preds)\n",
    "    naive_model = NaiveModel(train_series, [], ['daily_quantity'])\n",
    "    naive_model.fit()\n",
    "    preds_naive = naive_model.forecast(test_series.index[0], test_series.index[-1])\n",
    "    preds_naive = preds_naive.round()\n",
    "    naive_error, naive_total_error = naive_model.measure_error(test_series, preds_naive)\n",
    "    wape = test_total_error['MAPE']/naive_total_error['MAPE']\n",
    "    mean_test = test_series['daily_quantity'].mean()\n",
    "    mean_preds = preds.mean()\n",
    "    return model.getLabel(), test_total_error['MAPE'], test_total_error['MAD'], wape, mean_test, mean_preds"
   ]
  },
  {
   "cell_type": "code",
   "execution_count": 26,
   "metadata": {},
   "outputs": [],
   "source": [
    "def perform_cv_process(product_id, product_name, full_quantity_total_product, models, n_test = 5, length_test = 30, n_cv = 30):\n",
    "    loc = full_quantity_total_product.shape[0]\n",
    "    is_valid = 0\n",
    "    best_models = []\n",
    "    flat_result = []\n",
    "    attr_names = ['product_id', 'product_name', 'start_date', 'end_date', 'best_model', 'MAPE', 'MAD', 'wape', 'mean_test', 'mean_preds']\n",
    "    for i in range(n_test):\n",
    "        train_series = full_quantity_total_product.iloc[:loc]\n",
    "        result = [product_id, product_name, full_quantity_total_product.index[loc - length_test], full_quantity_total_product.index[loc - 1]]\n",
    "        result.extend(all_process_on_timeseries(train_series, models, length_test, n_cv))\n",
    "        if result[3]:\n",
    "            is_valid += 1 \n",
    "            flat_result.append(dict(zip(attr_names, result)))\n",
    "        loc = loc - length_test\n",
    "    if not is_valid:\n",
    "        return None\n",
    "    return flat_result"
   ]
  },
  {
   "cell_type": "code",
   "execution_count": 27,
   "metadata": {},
   "outputs": [
    {
     "name": "stderr",
     "output_type": "stream",
     "text": [
      "/opt/conda/lib/python3.6/site-packages/statsmodels/base/model.py:488: HessianInversionWarning: Inverting hessian failed, no bse or cov_params available\n",
      "  'available', HessianInversionWarning)\n",
      "/opt/conda/lib/python3.6/site-packages/statsmodels/base/model.py:488: HessianInversionWarning: Inverting hessian failed, no bse or cov_params available\n",
      "  'available', HessianInversionWarning)\n",
      "/opt/conda/lib/python3.6/site-packages/statsmodels/base/model.py:488: HessianInversionWarning: Inverting hessian failed, no bse or cov_params available\n",
      "  'available', HessianInversionWarning)\n",
      "/opt/conda/lib/python3.6/site-packages/statsmodels/base/model.py:488: HessianInversionWarning: Inverting hessian failed, no bse or cov_params available\n",
      "  'available', HessianInversionWarning)\n",
      "/opt/conda/lib/python3.6/site-packages/statsmodels/base/model.py:488: HessianInversionWarning: Inverting hessian failed, no bse or cov_params available\n",
      "  'available', HessianInversionWarning)\n",
      "/opt/conda/lib/python3.6/site-packages/statsmodels/base/model.py:488: HessianInversionWarning: Inverting hessian failed, no bse or cov_params available\n",
      "  'available', HessianInversionWarning)\n",
      "/opt/conda/lib/python3.6/site-packages/statsmodels/base/model.py:488: HessianInversionWarning: Inverting hessian failed, no bse or cov_params available\n",
      "  'available', HessianInversionWarning)\n",
      "/opt/conda/lib/python3.6/site-packages/statsmodels/base/model.py:488: HessianInversionWarning: Inverting hessian failed, no bse or cov_params available\n",
      "  'available', HessianInversionWarning)\n",
      "/opt/conda/lib/python3.6/site-packages/statsmodels/base/model.py:488: HessianInversionWarning: Inverting hessian failed, no bse or cov_params available\n",
      "  'available', HessianInversionWarning)\n",
      "/opt/conda/lib/python3.6/site-packages/statsmodels/base/model.py:488: HessianInversionWarning: Inverting hessian failed, no bse or cov_params available\n",
      "  'available', HessianInversionWarning)\n",
      "/opt/conda/lib/python3.6/site-packages/statsmodels/base/model.py:488: HessianInversionWarning: Inverting hessian failed, no bse or cov_params available\n",
      "  'available', HessianInversionWarning)\n",
      "/opt/conda/lib/python3.6/site-packages/statsmodels/base/model.py:488: HessianInversionWarning: Inverting hessian failed, no bse or cov_params available\n",
      "  'available', HessianInversionWarning)\n",
      "/opt/conda/lib/python3.6/site-packages/statsmodels/base/model.py:488: HessianInversionWarning: Inverting hessian failed, no bse or cov_params available\n",
      "  'available', HessianInversionWarning)\n",
      "/opt/conda/lib/python3.6/site-packages/statsmodels/base/model.py:488: HessianInversionWarning: Inverting hessian failed, no bse or cov_params available\n",
      "  'available', HessianInversionWarning)\n",
      "/opt/conda/lib/python3.6/site-packages/statsmodels/base/model.py:508: ConvergenceWarning: Maximum Likelihood optimization failed to converge. Check mle_retvals\n",
      "  \"Check mle_retvals\", ConvergenceWarning)\n",
      "/opt/conda/lib/python3.6/site-packages/statsmodels/base/model.py:488: HessianInversionWarning: Inverting hessian failed, no bse or cov_params available\n",
      "  'available', HessianInversionWarning)\n",
      "/opt/conda/lib/python3.6/site-packages/statsmodels/base/model.py:488: HessianInversionWarning: Inverting hessian failed, no bse or cov_params available\n",
      "  'available', HessianInversionWarning)\n",
      "/opt/conda/lib/python3.6/site-packages/statsmodels/base/model.py:488: HessianInversionWarning: Inverting hessian failed, no bse or cov_params available\n",
      "  'available', HessianInversionWarning)\n",
      "/opt/conda/lib/python3.6/site-packages/statsmodels/base/model.py:488: HessianInversionWarning: Inverting hessian failed, no bse or cov_params available\n",
      "  'available', HessianInversionWarning)\n",
      "/opt/conda/lib/python3.6/site-packages/statsmodels/base/model.py:508: ConvergenceWarning: Maximum Likelihood optimization failed to converge. Check mle_retvals\n",
      "  \"Check mle_retvals\", ConvergenceWarning)\n",
      "/opt/conda/lib/python3.6/site-packages/statsmodels/base/model.py:508: ConvergenceWarning: Maximum Likelihood optimization failed to converge. Check mle_retvals\n",
      "  \"Check mle_retvals\", ConvergenceWarning)\n",
      "/opt/conda/lib/python3.6/site-packages/statsmodels/base/model.py:508: ConvergenceWarning: Maximum Likelihood optimization failed to converge. Check mle_retvals\n",
      "  \"Check mle_retvals\", ConvergenceWarning)\n",
      "/opt/conda/lib/python3.6/site-packages/statsmodels/base/model.py:508: ConvergenceWarning: Maximum Likelihood optimization failed to converge. Check mle_retvals\n",
      "  \"Check mle_retvals\", ConvergenceWarning)\n",
      "/opt/conda/lib/python3.6/site-packages/statsmodels/base/model.py:508: ConvergenceWarning: Maximum Likelihood optimization failed to converge. Check mle_retvals\n",
      "  \"Check mle_retvals\", ConvergenceWarning)\n",
      "/opt/conda/lib/python3.6/site-packages/statsmodels/base/model.py:508: ConvergenceWarning: Maximum Likelihood optimization failed to converge. Check mle_retvals\n",
      "  \"Check mle_retvals\", ConvergenceWarning)\n",
      "/opt/conda/lib/python3.6/site-packages/statsmodels/base/model.py:508: ConvergenceWarning: Maximum Likelihood optimization failed to converge. Check mle_retvals\n",
      "  \"Check mle_retvals\", ConvergenceWarning)\n",
      "/opt/conda/lib/python3.6/site-packages/statsmodels/base/model.py:488: HessianInversionWarning: Inverting hessian failed, no bse or cov_params available\n",
      "  'available', HessianInversionWarning)\n",
      "/opt/conda/lib/python3.6/site-packages/statsmodels/base/model.py:508: ConvergenceWarning: Maximum Likelihood optimization failed to converge. Check mle_retvals\n",
      "  \"Check mle_retvals\", ConvergenceWarning)\n",
      "/opt/conda/lib/python3.6/site-packages/statsmodels/base/model.py:488: HessianInversionWarning: Inverting hessian failed, no bse or cov_params available\n",
      "  'available', HessianInversionWarning)\n",
      "/opt/conda/lib/python3.6/site-packages/statsmodels/base/model.py:508: ConvergenceWarning: Maximum Likelihood optimization failed to converge. Check mle_retvals\n",
      "  \"Check mle_retvals\", ConvergenceWarning)\n",
      "/opt/conda/lib/python3.6/site-packages/statsmodels/base/model.py:508: ConvergenceWarning: Maximum Likelihood optimization failed to converge. Check mle_retvals\n",
      "  \"Check mle_retvals\", ConvergenceWarning)\n",
      "/opt/conda/lib/python3.6/site-packages/statsmodels/base/model.py:488: HessianInversionWarning: Inverting hessian failed, no bse or cov_params available\n",
      "  'available', HessianInversionWarning)\n",
      "/opt/conda/lib/python3.6/site-packages/statsmodels/base/model.py:508: ConvergenceWarning: Maximum Likelihood optimization failed to converge. Check mle_retvals\n",
      "  \"Check mle_retvals\", ConvergenceWarning)\n",
      "/opt/conda/lib/python3.6/site-packages/statsmodels/base/model.py:508: ConvergenceWarning: Maximum Likelihood optimization failed to converge. Check mle_retvals\n",
      "  \"Check mle_retvals\", ConvergenceWarning)\n",
      "/opt/conda/lib/python3.6/site-packages/statsmodels/base/model.py:508: ConvergenceWarning: Maximum Likelihood optimization failed to converge. Check mle_retvals\n",
      "  \"Check mle_retvals\", ConvergenceWarning)\n",
      "/opt/conda/lib/python3.6/site-packages/statsmodels/base/model.py:488: HessianInversionWarning: Inverting hessian failed, no bse or cov_params available\n",
      "  'available', HessianInversionWarning)\n",
      "/opt/conda/lib/python3.6/site-packages/statsmodels/base/model.py:488: HessianInversionWarning: Inverting hessian failed, no bse or cov_params available\n",
      "  'available', HessianInversionWarning)\n",
      "/opt/conda/lib/python3.6/site-packages/statsmodels/base/model.py:488: HessianInversionWarning: Inverting hessian failed, no bse or cov_params available\n",
      "  'available', HessianInversionWarning)\n",
      "/opt/conda/lib/python3.6/site-packages/statsmodels/base/model.py:488: HessianInversionWarning: Inverting hessian failed, no bse or cov_params available\n",
      "  'available', HessianInversionWarning)\n",
      "/opt/conda/lib/python3.6/site-packages/statsmodels/base/model.py:488: HessianInversionWarning: Inverting hessian failed, no bse or cov_params available\n",
      "  'available', HessianInversionWarning)\n",
      "/opt/conda/lib/python3.6/site-packages/statsmodels/base/model.py:488: HessianInversionWarning: Inverting hessian failed, no bse or cov_params available\n",
      "  'available', HessianInversionWarning)\n"
     ]
    },
    {
     "ename": "NameError",
     "evalue": "name 'flat_result_all_cat' is not defined",
     "output_type": "error",
     "traceback": [
      "\u001b[0;31m---------------------------------------------------------------------------\u001b[0m",
      "\u001b[0;31mNameError\u001b[0m                                 Traceback (most recent call last)",
      "\u001b[0;32m<ipython-input-27-9b09c41f25c7>\u001b[0m in \u001b[0;36m<module>\u001b[0;34m\u001b[0m\n\u001b[1;32m     20\u001b[0m     \u001b[0mflat_result\u001b[0m \u001b[0;34m=\u001b[0m \u001b[0mperform_cv_process\u001b[0m\u001b[0;34m(\u001b[0m\u001b[0mproduct\u001b[0m\u001b[0;34m[\u001b[0m\u001b[0;36m0\u001b[0m\u001b[0;34m]\u001b[0m\u001b[0;34m,\u001b[0m \u001b[0mproduct\u001b[0m\u001b[0;34m[\u001b[0m\u001b[0;36m1\u001b[0m\u001b[0;34m]\u001b[0m\u001b[0;34m,\u001b[0m \u001b[0mdf_group\u001b[0m\u001b[0;34m,\u001b[0m \u001b[0mall_model\u001b[0m\u001b[0;34m,\u001b[0m \u001b[0;36m5\u001b[0m\u001b[0;34m,\u001b[0m \u001b[0;36m1\u001b[0m\u001b[0;34m,\u001b[0m \u001b[0;36m25\u001b[0m\u001b[0;34m)\u001b[0m\u001b[0;34m\u001b[0m\u001b[0;34m\u001b[0m\u001b[0m\n\u001b[1;32m     21\u001b[0m     \u001b[0;32mif\u001b[0m \u001b[0mflat_result\u001b[0m\u001b[0;34m:\u001b[0m\u001b[0;34m\u001b[0m\u001b[0;34m\u001b[0m\u001b[0m\n\u001b[0;32m---> 22\u001b[0;31m         \u001b[0mflat_result_all_cat\u001b[0m\u001b[0;34m.\u001b[0m\u001b[0mextend\u001b[0m\u001b[0;34m(\u001b[0m\u001b[0mflat_result\u001b[0m\u001b[0;34m)\u001b[0m\u001b[0;34m\u001b[0m\u001b[0;34m\u001b[0m\u001b[0m\n\u001b[0m\u001b[1;32m     23\u001b[0m         \u001b[0mjson\u001b[0m\u001b[0;34m.\u001b[0m\u001b[0mdump\u001b[0m\u001b[0;34m(\u001b[0m\u001b[0mflat_result_all_cat\u001b[0m\u001b[0;34m,\u001b[0m\u001b[0mopen\u001b[0m\u001b[0;34m(\u001b[0m\u001b[0;34m'product_month_series_prediction_multiple_test_set.json'\u001b[0m\u001b[0;34m,\u001b[0m \u001b[0;34m'w'\u001b[0m\u001b[0;34m,\u001b[0m \u001b[0mencoding\u001b[0m \u001b[0;34m=\u001b[0m \u001b[0;34m'utf8'\u001b[0m\u001b[0;34m)\u001b[0m\u001b[0;34m)\u001b[0m\u001b[0;34m\u001b[0m\u001b[0;34m\u001b[0m\u001b[0m\n",
      "\u001b[0;31mNameError\u001b[0m: name 'flat_result_all_cat' is not defined"
     ]
    }
   ],
   "source": [
    "flat_result_all_productt = []\n",
    "all_model = {'Average': AverageModel, 'Naive': NaiveModel, 'Drift': DriftModel, 'SeasonalNaive':SeasonalNaiveModel, \\\n",
    "                 'UpgradeSeason':UpgradeSeasonModel, 'StandardArima': StandardArimaModel, 'SES':SimpleExpSmothingModel, \\\n",
    "                 'Holt': HoltModel, 'HoltWinter': HoltWinterModel, 'DecomposeArima': DecomposeArimaModel}\n",
    "using_predictor_col = [SeasonalNaiveModel, UpgradeSeasonModel, SarimaxModel]\n",
    "selected_models_cat = {}\n",
    "n = 1\n",
    "for product in product_list[:1]:\n",
    "    df = select_product(product_quantity_date, product[0])\n",
    "    df['transaction_date'] = pd.to_datetime(df['transaction_date'])\n",
    "    df_clean = clean_data(df)\n",
    "    df_clean = df_clean['daily_quantity'].reset_index()\n",
    "    df_group = df_clean.groupby(pd.Grouper(key ='date_ts', freq = 'M'))['daily_quantity'].sum()\n",
    "    df_group = df_group[0:-1]\n",
    "    df_group = pd.DataFrame(df_group)\n",
    "    df_group['moy'] = df_group.index.to_series().dt.month\n",
    "    df_group = pd.get_dummies(df_group, prefix = ['moy'], columns = ['moy'], drop_first = True)\n",
    "    all_model = [AverageModel, NaiveModel, DriftModel, SeasonalNaiveModel, UpgradeSeasonModel, StandardArimaModel,\\\n",
    "                  SimpleExpSmothingModel, HoltModel, HoltWinterModel, DecomposeArimaModel]\n",
    "    flat_result = perform_cv_process(product[0], product[1], df_group, all_model, 5, 1, 25)\n",
    "    if flat_result:\n",
    "        flat_result_all_cat.extend(flat_result)\n",
    "        json.dump(flat_result_all_cat,open('product_month_series_prediction_multiple_test_set.json', 'w', encoding = 'utf8'))"
   ]
  },
  {
   "cell_type": "code",
   "execution_count": null,
   "metadata": {},
   "outputs": [],
   "source": []
  },
  {
   "cell_type": "code",
   "execution_count": null,
   "metadata": {},
   "outputs": [],
   "source": []
  },
  {
   "cell_type": "code",
   "execution_count": null,
   "metadata": {},
   "outputs": [],
   "source": []
  },
  {
   "cell_type": "code",
   "execution_count": null,
   "metadata": {},
   "outputs": [],
   "source": []
  },
  {
   "cell_type": "code",
   "execution_count": null,
   "metadata": {},
   "outputs": [],
   "source": []
  },
  {
   "cell_type": "code",
   "execution_count": null,
   "metadata": {},
   "outputs": [],
   "source": []
  },
  {
   "cell_type": "code",
   "execution_count": null,
   "metadata": {},
   "outputs": [],
   "source": []
  },
  {
   "cell_type": "code",
   "execution_count": null,
   "metadata": {},
   "outputs": [],
   "source": []
  },
  {
   "cell_type": "code",
   "execution_count": null,
   "metadata": {},
   "outputs": [],
   "source": []
  },
  {
   "cell_type": "code",
   "execution_count": null,
   "metadata": {},
   "outputs": [],
   "source": []
  },
  {
   "cell_type": "code",
   "execution_count": null,
   "metadata": {},
   "outputs": [],
   "source": []
  },
  {
   "cell_type": "code",
   "execution_count": null,
   "metadata": {},
   "outputs": [],
   "source": []
  },
  {
   "cell_type": "code",
   "execution_count": null,
   "metadata": {},
   "outputs": [],
   "source": []
  },
  {
   "cell_type": "code",
   "execution_count": 46,
   "metadata": {},
   "outputs": [
    {
     "data": {
      "text/html": [
       "<div>\n",
       "<style scoped>\n",
       "    .dataframe tbody tr th:only-of-type {\n",
       "        vertical-align: middle;\n",
       "    }\n",
       "\n",
       "    .dataframe tbody tr th {\n",
       "        vertical-align: top;\n",
       "    }\n",
       "\n",
       "    .dataframe thead th {\n",
       "        text-align: right;\n",
       "    }\n",
       "</style>\n",
       "<table border=\"1\" class=\"dataframe\">\n",
       "  <thead>\n",
       "    <tr style=\"text-align: right;\">\n",
       "      <th></th>\n",
       "      <th></th>\n",
       "      <th>daily_quantity</th>\n",
       "    </tr>\n",
       "    <tr>\n",
       "      <th>sku_id</th>\n",
       "      <th>sku_name</th>\n",
       "      <th></th>\n",
       "    </tr>\n",
       "  </thead>\n",
       "  <tbody>\n",
       "    <tr>\n",
       "      <th>1301656</th>\n",
       "      <th>xử lý phần mềm</th>\n",
       "      <td>823</td>\n",
       "    </tr>\n",
       "    <tr>\n",
       "      <th>1203141</th>\n",
       "      <th>phần mềm kaspersky internet security 1 máy tính</th>\n",
       "      <td>823</td>\n",
       "    </tr>\n",
       "    <tr>\n",
       "      <th>1201762</th>\n",
       "      <th>ổ cứng hdd wd blue 1tb sata3 7200rpm (wd10ezex)</th>\n",
       "      <td>823</td>\n",
       "    </tr>\n",
       "    <tr>\n",
       "      <th>1201758</th>\n",
       "      <th>ổ cứng hdd wd elements portable 1tb 2.5\" 3.0 (wdbuzg0010bbk-wesn)</th>\n",
       "      <td>823</td>\n",
       "    </tr>\n",
       "    <tr>\n",
       "      <th>1202982</th>\n",
       "      <th>bàn phím+chuột máy tính logitech mk120</th>\n",
       "      <td>823</td>\n",
       "    </tr>\n",
       "    <tr>\n",
       "      <th>1201747</th>\n",
       "      <th>ổ cứng hdd pc seagate barracuda 1tb 3.5\" sata (st1000dm010)</th>\n",
       "      <td>823</td>\n",
       "    </tr>\n",
       "    <tr>\n",
       "      <th>1202903</th>\n",
       "      <th>bàn phím dell kb216-black</th>\n",
       "      <td>823</td>\n",
       "    </tr>\n",
       "    <tr>\n",
       "      <th>1207888</th>\n",
       "      <th>túi đệm 15''</th>\n",
       "      <td>823</td>\n",
       "    </tr>\n",
       "    <tr>\n",
       "      <th>1203139</th>\n",
       "      <th>phần mềm kaspersky antivirus 1 máy tính</th>\n",
       "      <td>823</td>\n",
       "    </tr>\n",
       "    <tr>\n",
       "      <th>1303061</th>\n",
       "      <th>ổ cứng di động/ usb kingston 16gb dt100g3</th>\n",
       "      <td>823</td>\n",
       "    </tr>\n",
       "    <tr>\n",
       "      <th>1204431</th>\n",
       "      <th>chuột máy tính logitech b100</th>\n",
       "      <td>823</td>\n",
       "    </tr>\n",
       "    <tr>\n",
       "      <th>1203142</th>\n",
       "      <th>phần mềm kaspersky internet security 3 máy tính</th>\n",
       "      <td>822</td>\n",
       "    </tr>\n",
       "    <tr>\n",
       "      <th>1202937</th>\n",
       "      <th>bàn phím logitech k120</th>\n",
       "      <td>822</td>\n",
       "    </tr>\n",
       "    <tr>\n",
       "      <th>1204497</th>\n",
       "      <th>miếng lót chuột</th>\n",
       "      <td>822</td>\n",
       "    </tr>\n",
       "    <tr>\n",
       "      <th>1209311</th>\n",
       "      <th>đầu rj 45 (amp) commscope</th>\n",
       "      <td>822</td>\n",
       "    </tr>\n",
       "    <tr>\n",
       "      <th>1206842</th>\n",
       "      <th>pin cmos</th>\n",
       "      <td>822</td>\n",
       "    </tr>\n",
       "    <tr>\n",
       "      <th>1207885</th>\n",
       "      <th>túi đệm 14\"</th>\n",
       "      <td>822</td>\n",
       "    </tr>\n",
       "    <tr>\n",
       "      <th>1301721</th>\n",
       "      <th>miếng lót chuột zadez</th>\n",
       "      <td>821</td>\n",
       "    </tr>\n",
       "    <tr>\n",
       "      <th>1200819</th>\n",
       "      <th>cáp sata 150</th>\n",
       "      <td>820</td>\n",
       "    </tr>\n",
       "    <tr>\n",
       "      <th>1204794</th>\n",
       "      <th>máy in canon lbp 2900</th>\n",
       "      <td>820</td>\n",
       "    </tr>\n",
       "  </tbody>\n",
       "</table>\n",
       "</div>"
      ],
      "text/plain": [
       "                                                            daily_quantity\n",
       "sku_id  sku_name                                                          \n",
       "1301656 xử lý phần mềm                                                 823\n",
       "1203141 phần mềm kaspersky internet security 1 máy tính                823\n",
       "1201762 ổ cứng hdd wd blue 1tb sata3 7200rpm (wd10ezex)                823\n",
       "1201758 ổ cứng hdd wd elements portable 1tb 2.5\" 3.0 (w...             823\n",
       "1202982 bàn phím+chuột máy tính logitech mk120                         823\n",
       "1201747 ổ cứng hdd pc seagate barracuda 1tb 3.5\" sata (...             823\n",
       "1202903 bàn phím dell kb216-black                                      823\n",
       "1207888 túi đệm 15''                                                   823\n",
       "1203139 phần mềm kaspersky antivirus 1 máy tính                        823\n",
       "1303061 ổ cứng di động/ usb kingston 16gb dt100g3                      823\n",
       "1204431 chuột máy tính logitech b100                                   823\n",
       "1203142 phần mềm kaspersky internet security 3 máy tính                822\n",
       "1202937 bàn phím logitech k120                                         822\n",
       "1204497 miếng lót chuột                                                822\n",
       "1209311 đầu rj 45 (amp) commscope                                      822\n",
       "1206842 pin cmos                                                       822\n",
       "1207885 túi đệm 14\"                                                    822\n",
       "1301721 miếng lót chuột zadez                                          821\n",
       "1200819 cáp sata 150                                                   820\n",
       "1204794 máy in canon lbp 2900                                          820"
      ]
     },
     "execution_count": 46,
     "metadata": {},
     "output_type": "execute_result"
    }
   ],
   "source": [
    "product_quantity_date.groupby(['sku_id', 'sku_name']).agg({'daily_quantity': 'count'})\\\n",
    "                     .sort_values('daily_quantity', ascending = False).head(20)"
   ]
  },
  {
   "cell_type": "code",
   "execution_count": 34,
   "metadata": {},
   "outputs": [
    {
     "data": {
      "text/html": [
       "<div>\n",
       "<style scoped>\n",
       "    .dataframe tbody tr th:only-of-type {\n",
       "        vertical-align: middle;\n",
       "    }\n",
       "\n",
       "    .dataframe tbody tr th {\n",
       "        vertical-align: top;\n",
       "    }\n",
       "\n",
       "    .dataframe thead th {\n",
       "        text-align: right;\n",
       "    }\n",
       "</style>\n",
       "<table border=\"1\" class=\"dataframe\">\n",
       "  <thead>\n",
       "    <tr style=\"text-align: right;\">\n",
       "      <th></th>\n",
       "      <th></th>\n",
       "      <th>daily_quantity</th>\n",
       "    </tr>\n",
       "    <tr>\n",
       "      <th>sku_id</th>\n",
       "      <th>sku_name</th>\n",
       "      <th></th>\n",
       "    </tr>\n",
       "  </thead>\n",
       "  <tbody>\n",
       "    <tr>\n",
       "      <th>1701509</th>\n",
       "      <th>máy tính xách tay/ laptop dell vostro 3468 (f3468-70090698) (đen)</th>\n",
       "      <td>371</td>\n",
       "    </tr>\n",
       "    <tr>\n",
       "      <th>1603607</th>\n",
       "      <th>máy tính xách tay/ laptop dell vostro 3468 (f3468-70088614) (đen)</th>\n",
       "      <td>364</td>\n",
       "    </tr>\n",
       "    <tr>\n",
       "      <th>1603431</th>\n",
       "      <th>máy tính xách tay/ laptop dell vostro 3568-v3568b (đen)</th>\n",
       "      <td>352</td>\n",
       "    </tr>\n",
       "    <tr>\n",
       "      <th>1701256</th>\n",
       "      <th>máy tính xách tay/ laptop acer e5-475-31kc (nx.gcusv.001) (xám)</th>\n",
       "      <td>349</td>\n",
       "    </tr>\n",
       "    <tr>\n",
       "      <th>1603447</th>\n",
       "      <th>máy tính xách tay/ laptop dell vostro 3568-xf6c61 (đen)</th>\n",
       "      <td>339</td>\n",
       "    </tr>\n",
       "    <tr>\n",
       "      <th>1703469</th>\n",
       "      <th>máy tính xách tay/ laptop dell inspiron 15 5570-m5i5238w (bạc)</th>\n",
       "      <td>323</td>\n",
       "    </tr>\n",
       "    <tr>\n",
       "      <th>1700953</th>\n",
       "      <th>máy tính xách tay/ laptop dell vostro 3568-v3568a (đen)</th>\n",
       "      <td>321</td>\n",
       "    </tr>\n",
       "    <tr>\n",
       "      <th>1701547</th>\n",
       "      <th>máy tính xách tay/ laptop dell inspiron 14 3467-c4i51107 (đen)</th>\n",
       "      <td>313</td>\n",
       "    </tr>\n",
       "    <tr>\n",
       "      <th>1603884</th>\n",
       "      <th>máy tính xách tay/ laptop dell inspiron 14 3467-m20nr2 (đen)</th>\n",
       "      <td>307</td>\n",
       "    </tr>\n",
       "    <tr>\n",
       "      <th>1701230</th>\n",
       "      <th>máy tính xách tay/ laptop dell vostro 5468-vti5019w (vàng đồng)</th>\n",
       "      <td>306</td>\n",
       "    </tr>\n",
       "    <tr>\n",
       "      <th>1800274</th>\n",
       "      <th>máy tính xách tay/ laptop dell vostro 5471-vti5207w (bạc)</th>\n",
       "      <td>305</td>\n",
       "    </tr>\n",
       "    <tr>\n",
       "      <th>1603274</th>\n",
       "      <th>máy tính xách tay/ laptop dell vostro 5568-077m52 (i5-7200u) (vàng)</th>\n",
       "      <td>300</td>\n",
       "    </tr>\n",
       "    <tr>\n",
       "      <th>1603422</th>\n",
       "      <th>máy tính xách tay/ laptop dell vostro 3468 (f3468-70087405) (đen)</th>\n",
       "      <td>294</td>\n",
       "    </tr>\n",
       "    <tr>\n",
       "      <th>1603429</th>\n",
       "      <th>máy tính xách tay/ laptop dell inspiron 15 5567-n5567a (xám)</th>\n",
       "      <td>287</td>\n",
       "    </tr>\n",
       "    <tr>\n",
       "      <th>1700175</th>\n",
       "      <th>máy tính xách tay/ laptop dell inspiron 3567-n3567b (đen)</th>\n",
       "      <td>286</td>\n",
       "    </tr>\n",
       "    <tr>\n",
       "      <th>1700846</th>\n",
       "      <th>máy tính xách tay/ laptop dell vostro 15 3568-xf6c621 (i7-7500u) (đen)</th>\n",
       "      <td>281</td>\n",
       "    </tr>\n",
       "    <tr>\n",
       "      <th>1800172</th>\n",
       "      <th>máy tính xách tay/ laptop acer spin 3 sp314-51-36je (nx.guwsv.005) i3-7130u (xám)</th>\n",
       "      <td>281</td>\n",
       "    </tr>\n",
       "    <tr>\n",
       "      <th>1701035</th>\n",
       "      <th>máy tính xách tay/ laptop acer e5-575g-37wf (nx.gdwsv.006) (đen)</th>\n",
       "      <td>270</td>\n",
       "    </tr>\n",
       "    <tr>\n",
       "      <th>1700086</th>\n",
       "      <th>máy tính xách tay/ laptop dell vostro 15 3568-xf6c611 (i5-7200u) (đen)</th>\n",
       "      <td>261</td>\n",
       "    </tr>\n",
       "    <tr>\n",
       "      <th>1700797</th>\n",
       "      <th>máy tính xách tay/ laptop dell inspiron 15 3567 (f3567-70093474) (đen)</th>\n",
       "      <td>259</td>\n",
       "    </tr>\n",
       "  </tbody>\n",
       "</table>\n",
       "</div>"
      ],
      "text/plain": [
       "                                                            daily_quantity\n",
       "sku_id  sku_name                                                          \n",
       "1701509 máy tính xách tay/ laptop dell vostro 3468 (f34...             371\n",
       "1603607 máy tính xách tay/ laptop dell vostro 3468 (f34...             364\n",
       "1603431 máy tính xách tay/ laptop dell vostro 3568-v356...             352\n",
       "1701256 máy tính xách tay/ laptop acer e5-475-31kc (nx....             349\n",
       "1603447 máy tính xách tay/ laptop dell vostro 3568-xf6c...             339\n",
       "1703469 máy tính xách tay/ laptop dell inspiron 15 5570...             323\n",
       "1700953 máy tính xách tay/ laptop dell vostro 3568-v356...             321\n",
       "1701547 máy tính xách tay/ laptop dell inspiron 14 3467...             313\n",
       "1603884 máy tính xách tay/ laptop dell inspiron 14 3467...             307\n",
       "1701230 máy tính xách tay/ laptop dell vostro 5468-vti5...             306\n",
       "1800274 máy tính xách tay/ laptop dell vostro 5471-vti5...             305\n",
       "1603274 máy tính xách tay/ laptop dell vostro 5568-077m...             300\n",
       "1603422 máy tính xách tay/ laptop dell vostro 3468 (f34...             294\n",
       "1603429 máy tính xách tay/ laptop dell inspiron 15 5567...             287\n",
       "1700175 máy tính xách tay/ laptop dell inspiron 3567-n3...             286\n",
       "1700846 máy tính xách tay/ laptop dell vostro 15 3568-x...             281\n",
       "1800172 máy tính xách tay/ laptop acer spin 3 sp314-51-...             281\n",
       "1701035 máy tính xách tay/ laptop acer e5-575g-37wf (nx...             270\n",
       "1700086 máy tính xách tay/ laptop dell vostro 15 3568-x...             261\n",
       "1700797 máy tính xách tay/ laptop dell inspiron 15 3567...             259"
      ]
     },
     "execution_count": 34,
     "metadata": {},
     "output_type": "execute_result"
    }
   ],
   "source": [
    "product_quantity_date[product_quantity_date['cat_root_name'] == 'laptop'].groupby(['sku_id', 'sku_name']).agg({'daily_quantity':'count'})\\\n",
    "                     .sort_values('daily_quantity', ascending = False).head(20)"
   ]
  },
  {
   "cell_type": "code",
   "execution_count": 47,
   "metadata": {},
   "outputs": [],
   "source": [
    "df = select_product(product_quantity_date, '1201758')\n",
    "df['transaction_date'] = pd.to_datetime(df['transaction_date'])\n",
    "df_clean = clean_data(df)\n",
    "df_clean = df_clean['daily_quantity'].reset_index()\n",
    "df_group = df_clean.groupby(pd.Grouper(key ='date_ts', freq = 'M'))['daily_quantity'].sum()\n",
    "df_group = df_group[0:-1]\n",
    "df_group = pd.DataFrame(df_group)\n",
    "df_group['moy'] = df_group.index.to_series().dt.month\n",
    "df_group = pd.get_dummies(df_group, prefix = ['moy'], columns = ['moy'], drop_first = True)"
   ]
  },
  {
   "cell_type": "code",
   "execution_count": 48,
   "metadata": {},
   "outputs": [
    {
     "data": {
      "text/plain": [
       "[<matplotlib.lines.Line2D at 0x7fcad3d9acc0>]"
      ]
     },
     "execution_count": 48,
     "metadata": {},
     "output_type": "execute_result"
    },
    {
     "data": {
      "image/png": "[encoded data removed]",
      "text/plain": [
       "<Figure size 1080x432 with 1 Axes>"
      ]
     },
     "metadata": {
      "needs_background": "light"
     },
     "output_type": "display_data"
    }
   ],
   "source": [
    "plt.figure(figsize = (15, 6))\n",
    "plt.plot(df_group['daily_quantity'])"
   ]
  },
  {
   "cell_type": "code",
   "execution_count": 44,
   "metadata": {},
   "outputs": [
    {
     "data": {
      "text/plain": [
       "DatetimeIndex(['2019-03-31'], dtype='datetime64[ns]', freq='M')"
      ]
     },
     "execution_count": 44,
     "metadata": {},
     "output_type": "execute_result"
    }
   ],
   "source": [
    "start_date = end_date = pd.to_datetime('2019-03-31') \n",
    "pd.date_range(start_date, end_date, freq = 'M')"
   ]
  },
  {
   "cell_type": "code",
   "execution_count": 49,
   "metadata": {},
   "outputs": [
    {
     "name": "stderr",
     "output_type": "stream",
     "text": [
      "/opt/conda/lib/python3.6/site-packages/statsmodels/base/model.py:488: HessianInversionWarning: Inverting hessian failed, no bse or cov_params available\n",
      "  'available', HessianInversionWarning)\n",
      "/opt/conda/lib/python3.6/site-packages/statsmodels/base/model.py:488: HessianInversionWarning: Inverting hessian failed, no bse or cov_params available\n",
      "  'available', HessianInversionWarning)\n",
      "/opt/conda/lib/python3.6/site-packages/statsmodels/base/model.py:488: HessianInversionWarning: Inverting hessian failed, no bse or cov_params available\n",
      "  'available', HessianInversionWarning)\n",
      "/opt/conda/lib/python3.6/site-packages/statsmodels/base/model.py:488: HessianInversionWarning: Inverting hessian failed, no bse or cov_params available\n",
      "  'available', HessianInversionWarning)\n",
      "/opt/conda/lib/python3.6/site-packages/statsmodels/base/model.py:488: HessianInversionWarning: Inverting hessian failed, no bse or cov_params available\n",
      "  'available', HessianInversionWarning)\n",
      "/opt/conda/lib/python3.6/site-packages/statsmodels/base/model.py:488: HessianInversionWarning: Inverting hessian failed, no bse or cov_params available\n",
      "  'available', HessianInversionWarning)\n",
      "/opt/conda/lib/python3.6/site-packages/statsmodels/base/model.py:508: ConvergenceWarning: Maximum Likelihood optimization failed to converge. Check mle_retvals\n",
      "  \"Check mle_retvals\", ConvergenceWarning)\n",
      "/opt/conda/lib/python3.6/site-packages/statsmodels/base/model.py:488: HessianInversionWarning: Inverting hessian failed, no bse or cov_params available\n",
      "  'available', HessianInversionWarning)\n",
      "/opt/conda/lib/python3.6/site-packages/statsmodels/base/model.py:488: HessianInversionWarning: Inverting hessian failed, no bse or cov_params available\n",
      "  'available', HessianInversionWarning)\n",
      "/opt/conda/lib/python3.6/site-packages/statsmodels/base/model.py:488: HessianInversionWarning: Inverting hessian failed, no bse or cov_params available\n",
      "  'available', HessianInversionWarning)\n",
      "/opt/conda/lib/python3.6/site-packages/statsmodels/base/model.py:488: HessianInversionWarning: Inverting hessian failed, no bse or cov_params available\n",
      "  'available', HessianInversionWarning)\n",
      "/opt/conda/lib/python3.6/site-packages/statsmodels/base/model.py:508: ConvergenceWarning: Maximum Likelihood optimization failed to converge. Check mle_retvals\n",
      "  \"Check mle_retvals\", ConvergenceWarning)\n",
      "/opt/conda/lib/python3.6/site-packages/statsmodels/base/model.py:488: HessianInversionWarning: Inverting hessian failed, no bse or cov_params available\n",
      "  'available', HessianInversionWarning)\n",
      "/opt/conda/lib/python3.6/site-packages/statsmodels/base/model.py:508: ConvergenceWarning: Maximum Likelihood optimization failed to converge. Check mle_retvals\n",
      "  \"Check mle_retvals\", ConvergenceWarning)\n",
      "/opt/conda/lib/python3.6/site-packages/statsmodels/base/model.py:488: HessianInversionWarning: Inverting hessian failed, no bse or cov_params available\n",
      "  'available', HessianInversionWarning)\n",
      "/opt/conda/lib/python3.6/site-packages/statsmodels/base/model.py:488: HessianInversionWarning: Inverting hessian failed, no bse or cov_params available\n",
      "  'available', HessianInversionWarning)\n",
      "/opt/conda/lib/python3.6/site-packages/statsmodels/base/model.py:488: HessianInversionWarning: Inverting hessian failed, no bse or cov_params available\n",
      "  'available', HessianInversionWarning)\n",
      "/opt/conda/lib/python3.6/site-packages/statsmodels/base/model.py:488: HessianInversionWarning: Inverting hessian failed, no bse or cov_params available\n",
      "  'available', HessianInversionWarning)\n",
      "/opt/conda/lib/python3.6/site-packages/statsmodels/base/model.py:488: HessianInversionWarning: Inverting hessian failed, no bse or cov_params available\n",
      "  'available', HessianInversionWarning)\n",
      "/opt/conda/lib/python3.6/site-packages/statsmodels/base/model.py:488: HessianInversionWarning: Inverting hessian failed, no bse or cov_params available\n",
      "  'available', HessianInversionWarning)\n",
      "/opt/conda/lib/python3.6/site-packages/statsmodels/base/model.py:488: HessianInversionWarning: Inverting hessian failed, no bse or cov_params available\n",
      "  'available', HessianInversionWarning)\n",
      "/opt/conda/lib/python3.6/site-packages/statsmodels/base/model.py:488: HessianInversionWarning: Inverting hessian failed, no bse or cov_params available\n",
      "  'available', HessianInversionWarning)\n",
      "/opt/conda/lib/python3.6/site-packages/statsmodels/base/model.py:488: HessianInversionWarning: Inverting hessian failed, no bse or cov_params available\n",
      "  'available', HessianInversionWarning)\n",
      "/opt/conda/lib/python3.6/site-packages/statsmodels/base/model.py:488: HessianInversionWarning: Inverting hessian failed, no bse or cov_params available\n",
      "  'available', HessianInversionWarning)\n",
      "/opt/conda/lib/python3.6/site-packages/statsmodels/base/model.py:488: HessianInversionWarning: Inverting hessian failed, no bse or cov_params available\n",
      "  'available', HessianInversionWarning)\n",
      "/opt/conda/lib/python3.6/site-packages/statsmodels/base/model.py:488: HessianInversionWarning: Inverting hessian failed, no bse or cov_params available\n",
      "  'available', HessianInversionWarning)\n",
      "/opt/conda/lib/python3.6/site-packages/statsmodels/base/model.py:488: HessianInversionWarning: Inverting hessian failed, no bse or cov_params available\n",
      "  'available', HessianInversionWarning)\n",
      "/opt/conda/lib/python3.6/site-packages/statsmodels/base/model.py:488: HessianInversionWarning: Inverting hessian failed, no bse or cov_params available\n",
      "  'available', HessianInversionWarning)\n",
      "/opt/conda/lib/python3.6/site-packages/statsmodels/base/model.py:488: HessianInversionWarning: Inverting hessian failed, no bse or cov_params available\n",
      "  'available', HessianInversionWarning)\n",
      "/opt/conda/lib/python3.6/site-packages/statsmodels/base/model.py:488: HessianInversionWarning: Inverting hessian failed, no bse or cov_params available\n",
      "  'available', HessianInversionWarning)\n"
     ]
    }
   ],
   "source": [
    "all_model = [AverageModel, NaiveModel, DriftModel, SeasonalNaiveModel, UpgradeSeasonModel, StandardArimaModel,\\\n",
    "              SimpleExpSmothingModel, HoltModel, HoltWinterModel, DecomposeArimaModel]\n",
    "flat_result = perform_cv_process('gg', 'gg', df_group, all_model, 5, 1, 20)"
   ]
  },
  {
   "cell_type": "code",
   "execution_count": 41,
   "metadata": {},
   "outputs": [
    {
     "data": {
      "text/html": [
       "<div>\n",
       "<style scoped>\n",
       "    .dataframe tbody tr th:only-of-type {\n",
       "        vertical-align: middle;\n",
       "    }\n",
       "\n",
       "    .dataframe tbody tr th {\n",
       "        vertical-align: top;\n",
       "    }\n",
       "\n",
       "    .dataframe thead th {\n",
       "        text-align: right;\n",
       "    }\n",
       "</style>\n",
       "<table border=\"1\" class=\"dataframe\">\n",
       "  <thead>\n",
       "    <tr style=\"text-align: right;\">\n",
       "      <th></th>\n",
       "      <th>MAD</th>\n",
       "      <th>MAPE</th>\n",
       "      <th>best_model</th>\n",
       "      <th>end_date</th>\n",
       "      <th>mean_preds</th>\n",
       "      <th>mean_test</th>\n",
       "      <th>product_id</th>\n",
       "      <th>product_name</th>\n",
       "      <th>start_date</th>\n",
       "      <th>wape</th>\n",
       "    </tr>\n",
       "  </thead>\n",
       "  <tbody>\n",
       "    <tr>\n",
       "      <th>0</th>\n",
       "      <td>15.0</td>\n",
       "      <td>3.750000</td>\n",
       "      <td>SeasonalNaive</td>\n",
       "      <td>2018-09-30</td>\n",
       "      <td>19.0</td>\n",
       "      <td>4.0</td>\n",
       "      <td>gg</td>\n",
       "      <td>gg</td>\n",
       "      <td>2018-09-30</td>\n",
       "      <td>5.000000</td>\n",
       "    </tr>\n",
       "    <tr>\n",
       "      <th>1</th>\n",
       "      <td>17.0</td>\n",
       "      <td>2.428571</td>\n",
       "      <td>SeasonalNaive</td>\n",
       "      <td>2018-08-31</td>\n",
       "      <td>24.0</td>\n",
       "      <td>7.0</td>\n",
       "      <td>gg</td>\n",
       "      <td>gg</td>\n",
       "      <td>2018-08-31</td>\n",
       "      <td>2.125000</td>\n",
       "    </tr>\n",
       "    <tr>\n",
       "      <th>2</th>\n",
       "      <td>53.0</td>\n",
       "      <td>3.533333</td>\n",
       "      <td>UpgradeSeason</td>\n",
       "      <td>2018-07-31</td>\n",
       "      <td>68.0</td>\n",
       "      <td>15.0</td>\n",
       "      <td>gg</td>\n",
       "      <td>gg</td>\n",
       "      <td>2018-07-31</td>\n",
       "      <td>1.394737</td>\n",
       "    </tr>\n",
       "    <tr>\n",
       "      <th>3</th>\n",
       "      <td>32.0</td>\n",
       "      <td>0.603774</td>\n",
       "      <td>UpgradeSeason</td>\n",
       "      <td>2018-06-30</td>\n",
       "      <td>85.0</td>\n",
       "      <td>53.0</td>\n",
       "      <td>gg</td>\n",
       "      <td>gg</td>\n",
       "      <td>2018-06-30</td>\n",
       "      <td>3.555556</td>\n",
       "    </tr>\n",
       "    <tr>\n",
       "      <th>4</th>\n",
       "      <td>59.0</td>\n",
       "      <td>1.340909</td>\n",
       "      <td>SeasonalNaive</td>\n",
       "      <td>2018-05-31</td>\n",
       "      <td>103.0</td>\n",
       "      <td>44.0</td>\n",
       "      <td>gg</td>\n",
       "      <td>gg</td>\n",
       "      <td>2018-05-31</td>\n",
       "      <td>1.638889</td>\n",
       "    </tr>\n",
       "  </tbody>\n",
       "</table>\n",
       "</div>"
      ],
      "text/plain": [
       "    MAD      MAPE     best_model   end_date  mean_preds  mean_test product_id  \\\n",
       "0  15.0  3.750000  SeasonalNaive 2018-09-30        19.0        4.0         gg   \n",
       "1  17.0  2.428571  SeasonalNaive 2018-08-31        24.0        7.0         gg   \n",
       "2  53.0  3.533333  UpgradeSeason 2018-07-31        68.0       15.0         gg   \n",
       "3  32.0  0.603774  UpgradeSeason 2018-06-30        85.0       53.0         gg   \n",
       "4  59.0  1.340909  SeasonalNaive 2018-05-31       103.0       44.0         gg   \n",
       "\n",
       "  product_name start_date      wape  \n",
       "0           gg 2018-09-30  5.000000  \n",
       "1           gg 2018-08-31  2.125000  \n",
       "2           gg 2018-07-31  1.394737  \n",
       "3           gg 2018-06-30  3.555556  \n",
       "4           gg 2018-05-31  1.638889  "
      ]
     },
     "execution_count": 41,
     "metadata": {},
     "output_type": "execute_result"
    }
   ],
   "source": [
    "pd.DataFrame(flat_result)"
   ]
  },
  {
   "cell_type": "code",
   "execution_count": 18,
   "metadata": {},
   "outputs": [],
   "source": [
    "x_ = pd.DataFrame()"
   ]
  },
  {
   "cell_type": "code",
   "execution_count": 20,
   "metadata": {},
   "outputs": [],
   "source": [
    "x_['index'] = np.arange(23, 23 + 5)"
   ]
  },
  {
   "cell_type": "code",
   "execution_count": 21,
   "metadata": {},
   "outputs": [
    {
     "data": {
      "text/html": [
       "<div>\n",
       "<style scoped>\n",
       "    .dataframe tbody tr th:only-of-type {\n",
       "        vertical-align: middle;\n",
       "    }\n",
       "\n",
       "    .dataframe tbody tr th {\n",
       "        vertical-align: top;\n",
       "    }\n",
       "\n",
       "    .dataframe thead th {\n",
       "        text-align: right;\n",
       "    }\n",
       "</style>\n",
       "<table border=\"1\" class=\"dataframe\">\n",
       "  <thead>\n",
       "    <tr style=\"text-align: right;\">\n",
       "      <th></th>\n",
       "      <th>index</th>\n",
       "    </tr>\n",
       "  </thead>\n",
       "  <tbody>\n",
       "    <tr>\n",
       "      <th>0</th>\n",
       "      <td>23</td>\n",
       "    </tr>\n",
       "    <tr>\n",
       "      <th>1</th>\n",
       "      <td>24</td>\n",
       "    </tr>\n",
       "    <tr>\n",
       "      <th>2</th>\n",
       "      <td>25</td>\n",
       "    </tr>\n",
       "    <tr>\n",
       "      <th>3</th>\n",
       "      <td>26</td>\n",
       "    </tr>\n",
       "    <tr>\n",
       "      <th>4</th>\n",
       "      <td>27</td>\n",
       "    </tr>\n",
       "  </tbody>\n",
       "</table>\n",
       "</div>"
      ],
      "text/plain": [
       "   index\n",
       "0     23\n",
       "1     24\n",
       "2     25\n",
       "3     26\n",
       "4     27"
      ]
     },
     "execution_count": 21,
     "metadata": {},
     "output_type": "execute_result"
    }
   ],
   "source": [
    "x_"
   ]
  },
  {
   "cell_type": "code",
   "execution_count": null,
   "metadata": {},
   "outputs": [],
   "source": [
    "flat_result"
   ]
  },
  {
   "cell_type": "code",
   "execution_count": 91,
   "metadata": {},
   "outputs": [
    {
     "data": {
      "text/plain": [
       "0.2728092755179182"
      ]
     },
     "execution_count": 91,
     "metadata": {},
     "output_type": "execute_result"
    }
   ],
   "source": [
    "agg_wape"
   ]
  },
  {
   "cell_type": "code",
   "execution_count": 92,
   "metadata": {},
   "outputs": [
    {
     "data": {
      "text/plain": [
       "[models.HoltWinterModel,\n",
       " models.SeasonalNaiveModel,\n",
       " models.HoltWinterModel,\n",
       " models.SeasonalNaiveModel,\n",
       " models.SeasonalNaiveModel]"
      ]
     },
     "execution_count": 92,
     "metadata": {},
     "output_type": "execute_result"
    }
   ],
   "source": [
    "all_results"
   ]
  },
  {
   "cell_type": "code",
   "execution_count": 93,
   "metadata": {},
   "outputs": [
    {
     "data": {
      "text/plain": [
       "[0.09281779182392914,\n",
       " 0.08151809415294094,\n",
       " 0.09322125022952558,\n",
       " 0.07387535427744413,\n",
       " 0.07641165327390215]"
      ]
     },
     "execution_count": 93,
     "metadata": {},
     "output_type": "execute_result"
    }
   ],
   "source": [
    "tmp"
   ]
  },
  {
   "cell_type": "code",
   "execution_count": null,
   "metadata": {},
   "outputs": [],
   "source": []
  },
  {
   "cell_type": "code",
   "execution_count": null,
   "metadata": {},
   "outputs": [],
   "source": []
  },
  {
   "cell_type": "code",
   "execution_count": null,
   "metadata": {},
   "outputs": [],
   "source": []
  },
  {
   "cell_type": "code",
   "execution_count": 4,
   "metadata": {},
   "outputs": [],
   "source": [
    "def init():\n",
    "    #load fact\n",
    "    dlf = datalabframework.project.load()\n",
    "    engine = dlf.engine()\n",
    "    spark = engine.context()\n",
    "    fact_transaction = engine.load('fact_table').select('sku_id', 'sku_name', 'transaction_date', 'quantity', \\\n",
    "                                                        'doc_type', 'unit_price', 'cat_id', 'cat_group_id', \\\n",
    "                                                        'cat_root_id', 'cat_name', 'cat_group_name', 'cat_root_name')\n",
    "    product_quantity_date = fact_transaction.where(F.expr('doc_type == \"PTX\"') | F.expr('doc_type == \"HDF\"'))\\\n",
    "                .where(F.expr('unit_price != 0'))\\\n",
    "                .groupby('sku_id', 'sku_name', 'transaction_date', 'cat_id', 'cat_group_id', 'cat_root_id', 'cat_name', 'cat_group_name', 'cat_root_name')\\\n",
    "                .agg(F.sum('quantity').alias('daily_quantity'), F.avg('unit_price').alias('daily_price'))\\\n",
    "                .orderBy('transaction_date')\n",
    "    all_cat_name = product_quantity_date.select('cat_name', 'cat_id').distinct().toPandas()[['cat_name', 'cat_id']].values\n",
    "    all_cat_root_name = product_quantity_date.select('cat_root_name', 'cat_root_id').distinct().toPandas()[['cat_root_name', 'cat_root_id']].values\n",
    "    all_cat = []\n",
    "    for cat_name in all_cat_name:\n",
    "        all_cat.append((tuple(cat_name), (cat_name[0], None)))\n",
    "    for cat_root_name in all_cat_root_name:\n",
    "        all_cat.append((tuple(cat_root_name), (None, cat_root_name[0])))\n",
    "    all_cat.append((tuple(['total', '000000']), (None, None)))\n",
    "    product_quantity_date = product_quantity_date.toPandas()\n",
    "    product_quantity_date['daily_quantity'] = product_quantity_date['daily_quantity'].astype(np.int64)\n",
    "    return product_quantity_date, all_cat"
   ]
  },
  {
   "cell_type": "code",
   "execution_count": 17,
   "metadata": {},
   "outputs": [],
   "source": [
    "d = {}"
   ]
  },
  {
   "cell_type": "code",
   "execution_count": 19,
   "metadata": {},
   "outputs": [],
   "source": [
    "for t in all_cat:\n",
    "    d[t[0]] = t[1]"
   ]
  },
  {
   "cell_type": "code",
   "execution_count": 15,
   "metadata": {},
   "outputs": [
    {
     "data": {
      "text/plain": [
       "'switch tplink'"
      ]
     },
     "execution_count": 15,
     "metadata": {},
     "output_type": "execute_result"
    }
   ],
   "source": [
    "all_cat[0][0][0]"
   ]
  },
  {
   "cell_type": "code",
   "execution_count": 12,
   "metadata": {},
   "outputs": [
    {
     "data": {
      "text/plain": [
       "{'router wifi toto link': None}"
      ]
     },
     "execution_count": 12,
     "metadata": {},
     "output_type": "execute_result"
    }
   ],
   "source": [
    "dict(all_cat[1])"
   ]
  },
  {
   "cell_type": "code",
   "execution_count": 26,
   "metadata": {},
   "outputs": [],
   "source": [
    "def select_category(product_quantity_date, cat_name = None, cat_root_name = None):\n",
    "    \"\"\"\n",
    "    Select all transactions of a category (or all products) and caculate total sale of this category by date.\n",
    "    \n",
    "    Parameters\n",
    "    ----------\n",
    "    product_quantity_date: Spark.DataFrame\n",
    "        Arregation quantity dataframe of all sku and transaction date\n",
    "    cat_name: string\n",
    "        Name of selected category\n",
    "    \n",
    "    Returns\n",
    "    -------\n",
    "    Spark.DataFrame\n",
    "        Total sales of a category by date\n",
    "    \"\"\"\n",
    "    if cat_name:\n",
    "        cat_trans = product_quantity_date[product_quantity_date['cat_name'] == cat_name]\n",
    "    elif cat_root_name:\n",
    "        cat_trans = product_quantity_date[product_quantity_date['cat_root_name'] == cat_root_name]\n",
    "    else:\n",
    "        cat_trans = product_quantity_date[product_quantity_date['sku_id']!= \"1206838\"]\\\n",
    "                                         [product_quantity_date['sku_id']!= \"1207652\"]\n",
    "    total_by_date = cat_trans.groupby('transaction_date').agg({'daily_quantity':'sum'}).reset_index()\n",
    "    return total_by_date"
   ]
  },
  {
   "cell_type": "code",
   "execution_count": 27,
   "metadata": {},
   "outputs": [],
   "source": [
    "product_quantity_date, all_cat = init()"
   ]
  },
  {
   "cell_type": "code",
   "execution_count": 5,
   "metadata": {},
   "outputs": [
    {
     "name": "stderr",
     "output_type": "stream",
     "text": [
      "/opt/conda/lib/python3.6/site-packages/ipykernel_launcher.py:10: UserWarning: Boolean Series key will be reindexed to match DataFrame index.\n",
      "  # Remove the CWD from sys.path while we load stuff.\n",
      "/opt/conda/lib/python3.6/site-packages/ipykernel_launcher.py:10: UserWarning: Boolean Series key will be reindexed to match DataFrame index.\n",
      "  # Remove the CWD from sys.path while we load stuff.\n",
      "/opt/conda/lib/python3.6/site-packages/ipykernel_launcher.py:10: UserWarning: Boolean Series key will be reindexed to match DataFrame index.\n",
      "  # Remove the CWD from sys.path while we load stuff.\n"
     ]
    }
   ],
   "source": [
    "cat_revenue = []\n",
    "for cat in all_cat:\n",
    "    cat_name, cat_root_name = cat[1]\n",
    "    if cat_name:\n",
    "        cat_trans = product_quantity_date[product_quantity_date['cat_name'] == cat_name]\n",
    "    elif cat_root_name:\n",
    "        cat_trans = product_quantity_date[product_quantity_date['cat_root_name'] == cat_root_name]\n",
    "    else:\n",
    "        cat_trans = product_quantity_date[product_quantity_date['sku_id']!= \"1206838\"]\\\n",
    "                                             [product_quantity_date['sku_id']!= \"1207652\"]\n",
    "    cat_trans['revenue'] = cat_trans['daily_quantity']  * cat_trans['daily_price']\n",
    "    total_revenue = cat_trans['revenue'].sum()\n",
    "    cat_revenue.append([cat, total_revenue])"
   ]
  },
  {
   "cell_type": "code",
   "execution_count": 6,
   "metadata": {},
   "outputs": [],
   "source": [
    "sort_cat_revenue = sorted(cat_revenue, key = lambda x:x[1], reverse  = True)"
   ]
  },
  {
   "cell_type": "code",
   "execution_count": 28,
   "metadata": {},
   "outputs": [],
   "source": [
    "def fix_outliers(row, agg_week, not_outlier_range):\n",
    "    if ((row['daily_quantity'] < not_outlier_range[0]) | (row['daily_quantity'] > not_outlier_range[1])):\n",
    "        return agg_week.loc[row.loc['dow']].values[0]\n",
    "    return row['daily_quantity']"
   ]
  },
  {
   "cell_type": "code",
   "execution_count": 29,
   "metadata": {},
   "outputs": [],
   "source": [
    "def fix_value_tet_holiday(row, agg_week):\n",
    "    if row['daily_quantity'] == 0:\n",
    "        return agg_week.loc[row.loc['dow']].values[0]\n",
    "    return row['daily_quantity']"
   ]
  },
  {
   "cell_type": "code",
   "execution_count": 30,
   "metadata": {},
   "outputs": [],
   "source": [
    "def remove_outliers(full_quantity_total_product_dummies, agg_week):\n",
    "    values = full_quantity_total_product_dummies['daily_quantity'].values\n",
    "    q25 = np.quantile(values, 0.25)\n",
    "    q75 = np.quantile(values, 0.75)\n",
    "    IQR = q75 - q25\n",
    "    min_value_outlier = q25 - 1.5 * IQR\n",
    "    max_value_outlier = q75 + 1.5 * IQR\n",
    "    full_quantity_total_product_dummies['daily_quantity'] = full_quantity_total_product_dummies\\\n",
    "                                        .apply(fix_outliers, args = (agg_week, (min_value_outlier, max_value_outlier)), axis = 1)\n",
    "    return full_quantity_total_product_dummies"
   ]
  },
  {
   "cell_type": "code",
   "execution_count": 77,
   "metadata": {},
   "outputs": [],
   "source": [
    "def clean_data(total_by_date, end_date):\n",
    "    \"\"\"\n",
    "    Convert data from spark to pandas, clean data, create dummy variables of \n",
    "    day of week, month of year, day of month.\n",
    "    \n",
    "    Parameters\n",
    "    ----------\n",
    "    total_by_date: Spark.DataFrame\n",
    "        Total sales of a category by date\n",
    "    \n",
    "    Returns\n",
    "    -------\n",
    "    Pandas.DataFrame\n",
    "        Total sales of a category by date with clean the outliers and dummy variables\n",
    "    \"\"\"\n",
    "    start_date = total_by_date['transaction_date'].min()\n",
    "    end_date = end_date\n",
    "    total_by_date = total_by_date.set_index('transaction_date')\n",
    "    full_date = pd.DataFrame({'date_ts':pd.date_range(start_date, end_date)}).set_index('date_ts')\n",
    "    full_quantity_total_product = total_by_date.join(full_date, how = 'right').fillna(0)\n",
    "    full_quantity_total_product['week'] = full_quantity_total_product.index.to_series().dt.week\n",
    "    full_quantity_total_product['year'] = full_quantity_total_product.index.to_series().dt.year\n",
    "    full_quantity_total_product['month'] = full_quantity_total_product.index.to_series().dt.month\n",
    "    full_quantity_total_product['dow'] = full_quantity_total_product.index.to_series().dt.dayofweek\n",
    "    full_quantity_total_product['dom'] = full_quantity_total_product.index.to_series().dt.day\n",
    "    full_quantity_total_product.index.freq = 'D'\n",
    "    agg_week= full_quantity_total_product.groupby('dow').agg({'daily_quantity': 'mean'})\n",
    "    agg_week.columns = ['agg_total_week']\n",
    "    full_quantity_total_product['daily_quantity'] = full_quantity_total_product\\\n",
    "                                                        .apply(fix_value_tet_holiday, args = (agg_week,), axis = 1)\n",
    "    full_quantity_total_product_dummies = pd.get_dummies(full_quantity_total_product, prefix = ['dow', 'moy', 'dom'],\\\n",
    "                                                         columns = ['dow', 'month', 'dom'], drop_first = True)\n",
    "    \n",
    "    return full_quantity_total_product_dummies"
   ]
  },
  {
   "cell_type": "code",
   "execution_count": 32,
   "metadata": {},
   "outputs": [],
   "source": [
    "def add_holiday(full_quantity_total_product, file_name):\n",
    "    holiday_info = pd.read_csv(file_name)\n",
    "    holiday_info.columns = ['date', 'special_day_code', 'special_day_name']\n",
    "    holiday_info = holiday_info.set_index('date')\n",
    "    full_quantity_total_product = full_quantity_total_product.join(holiday_info)\n",
    "    full_quantity_total_product_dummies = pd.get_dummies(full_quantity_total_product, prefix = 'holiday', \\\n",
    "                                                         columns = ['special_day_code'], drop_first = True)\n",
    "    return full_quantity_total_product_dummies"
   ]
  },
  {
   "cell_type": "code",
   "execution_count": 12,
   "metadata": {},
   "outputs": [],
   "source": [
    "def forecast_process(data_series, predictor_cols, target_col, model_class):\n",
    "    \"\"\"\n",
    "    All prorecess for validate a model with a series\n",
    "    \n",
    "    Parameters\n",
    "    ----------\n",
    "    data_series: Pandas.Series\n",
    "        A given time series\n",
    "    predictor_cols: array-like\n",
    "        Column names of predictors\n",
    "    target_col: string\n",
    "        Column name of response column\n",
    "    model_class: TimeseriesForecastingModel\n",
    "        Class name of selected model\n",
    "    n_test: int\n",
    "        Number selected period at the end of series for test part\n",
    "    n_cv: int\n",
    "        Number folds for prediction\n",
    "        \n",
    "    Returns\n",
    "    -------\n",
    "    Axes: \n",
    "        Visualization for train, test, validation\n",
    "    Tuple:\n",
    "        Model of forecasting\n",
    "    Pandas.Series:\n",
    "        Error between prediction and actual value on test\n",
    "    Pandas.DataFrame:\n",
    "        Information of errors in cross validation\n",
    "    Dict:\n",
    "        Total error of cross validation\n",
    "    \"\"\"\n",
    "    n_test = 30\n",
    "    n_cv = 30\n",
    "    if (data_series.shape[0] < 70):\n",
    "        n_test = int(0.3 * data_series.shape[0])\n",
    "    selected_cols = list(set(predictor_cols).union(set(target_col)))\n",
    "    n_train = data_series.shape[0] - n_test\n",
    "    train_series = data_series.iloc[:n_train]\n",
    "    test_series = data_series.iloc[n_train:]\n",
    "    length_test = n_test\n",
    "    model = model_class(train_series, predictor_cols, target_col)\n",
    "    model.fit()\n",
    "    preds = model.forecast(test_series.index[0], test_series.index[-1])\n",
    "    test_error, test_total_error = model.measure_error(test_series, preds)\n",
    "    preds = preds.round()\n",
    "    list_cv_preds, cv_error, cv_total_error = model.cross_validation(n_cv, length_test)\n",
    "    list_cv_preds = [x.round() for x in list_cv_preds]\n",
    "    return model, test_error, test_total_error, cv_error, cv_total_error"
   ]
  },
  {
   "cell_type": "code",
   "execution_count": 13,
   "metadata": {},
   "outputs": [],
   "source": [
    "def all_forecast_process_category(product_quantity_date, cat_name = None, cat_root_name = None):\n",
    "    total_by_date = select_category(product_quantity_date, cat_name, cat_root_name)\n",
    "    full_quantity_total_product = clean_data(total_by_date)\n",
    "    full_quantity_total_product = add_holiday(full_quantity_total_product, 'special_day.csv')\n",
    "    all_model = [AverageModel, NaiveModel, DriftModel, SeasonalNaiveModel, UpgradeSeasonModel, StandardArimaModel,\\\n",
    "                 SimpleExpSmothingModel, HoltModel, HoltWinterModel, DecomposeArimaModel, SarimaxModel]\n",
    "    using_predictor_col = [SeasonalNaiveModel, UpgradeSeasonModel, SarimaxModel]\n",
    "    all_results = pd.DataFrame([], columns = ['model', 'test_error', 'test_total_error', 'avg_cv_error', 'total_error'])\n",
    "    for model_class in all_model:\n",
    "        predictor_cols = []\n",
    "        if (model_class in using_predictor_col):\n",
    "            predictor_cols = [f'dow_{i}' for i in range(1, 7)] + [f'moy_{i}' for i in range(2, 13)]\n",
    "            predictor_cols = list(set(predictor_cols).intersection(set(full_quantity_total_product.columns)))\n",
    "        try:\n",
    "            model, test_error, test_total_error, avg_cv_error, total_error = forecast_process(full_quantity_total_product, predictor_cols, ['daily_quantity'], model_class);\n",
    "            tmp = [model, test_error, test_total_error, avg_cv_error, total_error]\n",
    "            all_results = all_results.append(pd.Series(tmp, index = all_results.columns, name = model.getLabel()))\n",
    "        except: \n",
    "            continue\n",
    "    return all_results, full_quantity_total_product"
   ]
  },
  {
   "cell_type": "code",
   "execution_count": 35,
   "metadata": {},
   "outputs": [],
   "source": [
    "def retrain(full_quantity_total_product, model_class):\n",
    "    all_model = [AverageModel, NaiveModel, DriftModel, SeasonalNaiveModel, UpgradeSeasonModel, StandardArimaModel,\\\n",
    "                 SimpleExpSmothingModel, HoltModel, HoltWinterModel, DecomposeArimaModel, SarimaxModel]\n",
    "    using_predictor_col = [SeasonalNaiveModel, UpgradeSeasonModel, SarimaxModel]\n",
    "    predictor_cols = []\n",
    "    if (model_class in using_predictor_col):\n",
    "        predictor_cols = [f'dow_{i}' for i in range(1, 7)] + [f'moy_{i}' for i in range(2, 13)] \n",
    "        predictor_cols = list(set(predictor_cols).intersection(set(full_quantity_total_product.columns)))\n",
    "    target_col = ['daily_quantity']\n",
    "    model = model_class(full_quantity_total_product, predictor_cols, target_col)\n",
    "    model.fit()\n",
    "    return model"
   ]
  },
  {
   "cell_type": "code",
   "execution_count": 120,
   "metadata": {},
   "outputs": [],
   "source": [
    "def to_elastic(flat_result_all_cat, index_name, doctype):\n",
    "    settings = {\n",
    "        \"index\":{\n",
    "            \"number_of_shards\": 5,\n",
    "            \"number_of_replicas\": 1,\n",
    "            \"mapping\": {\n",
    "                \"total_fields\":{\n",
    "                    \"limit\": \"1000\"\n",
    "                }\n",
    "            },\n",
    "        }\n",
    "    }\n",
    "\n",
    "    mapping = {\n",
    "            doctype: { \n",
    "               \"dynamic_templates\": [\n",
    "                   {\"strings\": {\n",
    "                        \"match_mapping_type\": \"string\",\n",
    "                        \"mapping\": {\n",
    "                          \"type\": \"keyword\"\n",
    "                        }\n",
    "                      }\n",
    "                    }\n",
    "                ]\n",
    "            }\n",
    "        }\n",
    "\n",
    "    uri = ['http://{}:{}'.format(ip, '9200') for ip in ['192.168.0.179', '192.168.0.178']]\n",
    "    es = DocTools(uri)\n",
    "    esi = es.indextool()\n",
    "    esi.create(index_name, overwrite = True, settings = settings, mapping = mapping)\n",
    "    res = es.bulk(index_name, flat_result_all_cat, doctype = doctype)"
   ]
  },
  {
   "cell_type": "code",
   "execution_count": 16,
   "metadata": {},
   "outputs": [],
   "source": [
    "def forecast():\n",
    "    flat_result_all_cat = []\n",
    "    #product_quantity_date, all_cat = init()\n",
    "    print('Finish init')\n",
    "    all_model = {'Average': AverageModel, 'Naive': NaiveModel, 'Drift': DriftModel, 'SeasonalNaive':SeasonalNaiveModel, \\\n",
    "                 'UpgradeSeason':UpgradeSeasonModel, 'StandardArima': StandardArimaModel, 'SES':SimpleExpSmothingModel, \\\n",
    "                 'Holt': HoltModel, 'HoltWinter': HoltWinterModel, 'DecomposeArima': DecomposeArimaModel, 'Sarimax':SarimaxModel}\n",
    "    using_predictor_col = [SeasonalNaiveModel, UpgradeSeasonModel, SarimaxModel]\n",
    "    selected_models_cat = {}\n",
    "    n = 1\n",
    "    for cat in sort_cat_revenue:\n",
    "        cat = cat[0]\n",
    "        print(n ,' ', cat)\n",
    "        n = n + 1\n",
    "        result, full_quantity_total_product = all_forecast_process_category(product_quantity_date, *cat[1])\n",
    "        best_model = None\n",
    "        best_mean_error = math.inf\n",
    "        tmp_flat_result = []\n",
    "        for model in result.index:\n",
    "            percent_error_test = result.loc[model]['test_error']['percent_error']\n",
    "            percent_error_avg_cv = result.loc[model]['avg_cv_error']['percent_error']\n",
    "            rmse = math.sqrt(result.loc[model]['test_total_error']['MSE'])\n",
    "            test_error_MAPE_mean = np.mean(percent_error_test)\n",
    "            agg_cv_error_MAPE_mean = np.mean(percent_error_avg_cv)\n",
    "            test_error_MAPE_std = np.std(percent_error_test)\n",
    "            agg_cv_error_MAPE_std = np.std(percent_error_avg_cv)\n",
    "            total_error_MAPE = (test_error_MAPE_mean + agg_cv_error_MAPE_mean)/2\n",
    "            total_std_MAPE = (test_error_MAPE_std + agg_cv_error_MAPE_std)/2\n",
    "            total_selling_days = full_quantity_total_product.shape[0]\n",
    "            average_quantity = full_quantity_total_product['daily_quantity'].mean()\n",
    "            flat_result = {'cat_name': cat[0][0], 'cat_id': cat[0][1], 'model': model, 'test_error_MAPE_mean': test_error_MAPE_mean,\\\n",
    "                               'test_error_MAPE_std':test_error_MAPE_std, 'agg_cv_error_MAPE_mean': agg_cv_error_MAPE_mean,\\\n",
    "                               'agg_cv_error_MAPE_std': agg_cv_error_MAPE_std, 'total_error_MAPE': total_error_MAPE,\\\n",
    "                               'total_std_MAPE': total_std_MAPE, 'total_selling_greater_zero':total_selling_days,\\\n",
    "                               'average_quantity': average_quantity, 'rmse': rmse\n",
    "                          }\n",
    "            tmp_flat_result.append(flat_result)\n",
    "            if (total_error_MAPE < best_mean_error):\n",
    "                best_mean_error = total_error_MAPE\n",
    "                best_model = model\n",
    "        if best_model:\n",
    "            selected_models_cat[cat[0][1]] = all_model[best_model]\n",
    "            for i in range(len(result.index)):\n",
    "                if (result.index[i] == best_model):\n",
    "                    tmp_flat_result[i].update({'best_for_cat': 1})\n",
    "                else:\n",
    "                    tmp_flat_result[i].update({'best_for_cat': 0})\n",
    "        flat_result_all_cat.extend(tmp_flat_result)\n",
    "                    \n",
    "    #Retrain\n",
    "    for cat in sort_cat_revenue:\n",
    "        cat = cat[0]\n",
    "        if cat[0][1] in seleted_models_cat:\n",
    "            model = retrain(full_quantity_total_product, selected_models_cat[cat[0][1]])\n",
    "            output = open('models/' + cat[0][1] + '.pkl', 'wb')\n",
    "            pickle.dump(model, output)\n",
    "    return flat_result_all_cat"
   ]
  },
  {
   "cell_type": "code",
   "execution_count": null,
   "metadata": {},
   "outputs": [],
   "source": [
    "flat_result_all_cat = []\n",
    "all_model = {'Average': AverageModel, 'Naive': NaiveModel, 'Drift': DriftModel, 'SeasonalNaive':SeasonalNaiveModel, \\\n",
    "                 'UpgradeSeason':UpgradeSeasonModel, 'StandardArima': StandardArimaModel, 'SES':SimpleExpSmothingModel, \\\n",
    "                 'Holt': HoltModel, 'HoltWinter': HoltWinterModel, 'DecomposeArima': DecomposeArimaModel, 'Sarimax':SarimaxModel}\n",
    "using_predictor_col = [SeasonalNaiveModel, UpgradeSeasonModel, SarimaxModel]\n",
    "selected_models_cat = {}\n",
    "n = 1\n",
    "for cat in sort_cat_revenue[243:]:\n",
    "    cat = cat[0]\n",
    "    print(n ,' ', cat)\n",
    "    n = n + 1\n",
    "    result, full_quantity_total_product = all_forecast_process_category(product_quantity_date, *cat[1])\n",
    "    best_model = None\n",
    "    best_mean_error = math.inf\n",
    "    tmp_flat_result = []\n",
    "    for model in result.index:\n",
    "        percent_error_test = result.loc[model]['test_error']['percent_error']\n",
    "        percent_error_avg_cv = result.loc[model]['avg_cv_error']['percent_error']\n",
    "        rmse = math.sqrt(result.loc[model]['test_total_error']['MSE'])\n",
    "        test_error_MAPE_mean = np.mean(percent_error_test)\n",
    "        agg_cv_error_MAPE_mean = np.mean(percent_error_avg_cv)\n",
    "        test_error_MAPE_std = np.std(percent_error_test)\n",
    "        agg_cv_error_MAPE_std = np.std(percent_error_avg_cv)\n",
    "        total_error_MAPE = (test_error_MAPE_mean + agg_cv_error_MAPE_mean)/2\n",
    "        total_std_MAPE = (test_error_MAPE_std + agg_cv_error_MAPE_std)/2\n",
    "        total_selling_days = full_quantity_total_product.shape[0]\n",
    "        average_quantity = full_quantity_total_product['daily_quantity'].mean()\n",
    "        flat_result = {'cat_name': cat[0][0], 'cat_id': cat[0][1], 'model': model, 'test_error_MAPE_mean': test_error_MAPE_mean,\\\n",
    "                               'test_error_MAPE_std':test_error_MAPE_std, 'agg_cv_error_MAPE_mean': agg_cv_error_MAPE_mean,\\\n",
    "                               'agg_cv_error_MAPE_std': agg_cv_error_MAPE_std, 'total_error_MAPE': total_error_MAPE,\\\n",
    "                               'total_std_MAPE': total_std_MAPE, 'total_selling_greater_zero':total_selling_days,\\\n",
    "                               'average_quantity': average_quantity, 'rmse': rmse\n",
    "                          }\n",
    "        tmp_flat_result.append(flat_result) \n",
    "        if (total_error_MAPE < best_mean_error):\n",
    "            best_mean_error = total_error_MAPE\n",
    "            best_model = model\n",
    "    if best_model:\n",
    "        selected_models_cat[cat[0][1]] = all_model[best_model] \n",
    "        for i in range(len(result.index)):\n",
    "            if (result.index[i] == best_model):\n",
    "                tmp_flat_result[i].update({'best_for_cat': 1})                \n",
    "            else:\n",
    "                tmp_flat_result[i].update({'best_for_cat': 0})\n",
    "        flat_result_all_cat.extend(tmp_flat_result)\n",
    "        "
   ]
  },
  {
   "cell_type": "code",
   "execution_count": null,
   "metadata": {},
   "outputs": [],
   "source": [
    "flat_result_all_cat"
   ]
  },
  {
   "cell_type": "code",
   "execution_count": 18,
   "metadata": {},
   "outputs": [
    {
     "data": {
      "text/plain": [
       "4119"
      ]
     },
     "execution_count": 18,
     "metadata": {},
     "output_type": "execute_result"
    }
   ],
   "source": [
    "len(flat_result_all_cat)"
   ]
  },
  {
   "cell_type": "code",
   "execution_count": 2,
   "metadata": {},
   "outputs": [],
   "source": [
    "tmp = json.load(open('final_error_info.json', 'r'))"
   ]
  },
  {
   "cell_type": "code",
   "execution_count": null,
   "metadata": {},
   "outputs": [],
   "source": []
  },
  {
   "cell_type": "code",
   "execution_count": 22,
   "metadata": {},
   "outputs": [],
   "source": [
    "tmp.extend(flat_result_all_cat)"
   ]
  },
  {
   "cell_type": "code",
   "execution_count": 25,
   "metadata": {},
   "outputs": [],
   "source": [
    "json.dump(tmp,open('final_error_info.json', 'w', encoding = 'utf8'))"
   ]
  },
  {
   "cell_type": "code",
   "execution_count": null,
   "metadata": {},
   "outputs": [],
   "source": [
    "tmp"
   ]
  },
  {
   "cell_type": "code",
   "execution_count": 27,
   "metadata": {},
   "outputs": [
    {
     "name": "stderr",
     "output_type": "stream",
     "text": [
      "INFO:elasticsearch:HEAD http://192.168.0.179:9200/category_forecast_result [status:200 request:0.028s]\n",
      "INFO:elasticsearch:DELETE http://192.168.0.178:9200/category_forecast_result [status:200 request:2.605s]\n",
      "INFO:elasticsearch:PUT http://192.168.0.179:9200/category_forecast_result [status:200 request:3.894s]\n",
      "INFO:elasticsearch:HEAD http://192.168.0.178:9200/category_forecast_result [status:200 request:0.002s]\n"
     ]
    },
    {
     "name": "stdout",
     "output_type": "stream",
     "text": [
      "Normal bulk\n"
     ]
    },
    {
     "name": "stderr",
     "output_type": "stream",
     "text": [
      "INFO:elasticsearch:POST http://192.168.0.179:9200/category_forecast_result/category_model/_bulk [status:200 request:3.158s]\n",
      "INFO:elasticsearch:POST http://192.168.0.178:9200/category_forecast_result/category_model/_bulk [status:200 request:0.181s]\n",
      "INFO:elasticsearch:POST http://192.168.0.179:9200/category_forecast_result/category_model/_bulk [status:200 request:0.131s]\n",
      "INFO:elasticsearch:POST http://192.168.0.178:9200/category_forecast_result/category_model/_bulk [status:200 request:0.144s]\n",
      "INFO:elasticsearch:POST http://192.168.0.179:9200/category_forecast_result/category_model/_bulk [status:200 request:0.126s]\n",
      "INFO:elasticsearch:POST http://192.168.0.178:9200/category_forecast_result/category_model/_bulk [status:200 request:0.135s]\n",
      "INFO:elasticsearch:POST http://192.168.0.179:9200/category_forecast_result/category_model/_bulk [status:200 request:0.167s]\n",
      "INFO:elasticsearch:POST http://192.168.0.178:9200/category_forecast_result/category_model/_bulk [status:200 request:0.158s]\n",
      "INFO:elasticsearch:POST http://192.168.0.179:9200/category_forecast_result/category_model/_bulk [status:200 request:0.125s]\n",
      "INFO:elasticsearch:POST http://192.168.0.178:9200/category_forecast_result/category_model/_bulk [status:200 request:0.121s]\n",
      "INFO:elasticsearch:POST http://192.168.0.179:9200/category_forecast_result/category_model/_bulk [status:200 request:0.140s]\n",
      "INFO:elasticsearch:POST http://192.168.0.178:9200/category_forecast_result/category_model/_bulk [status:200 request:0.127s]\n",
      "INFO:elasticsearch:POST http://192.168.0.179:9200/category_forecast_result/category_model/_bulk [status:200 request:0.130s]\n",
      "INFO:elasticsearch:POST http://192.168.0.178:9200/category_forecast_result/category_model/_bulk [status:200 request:0.115s]\n"
     ]
    }
   ],
   "source": [
    "to_elastic(tmp, index_name = 'category_forecast_result')"
   ]
  },
  {
   "cell_type": "code",
   "execution_count": 7,
   "metadata": {},
   "outputs": [
    {
     "data": {
      "text/plain": [
       "{'cat_name': 'total',\n",
       " 'cat_id': '000000',\n",
       " 'model': 'Average',\n",
       " 'test_error_MAPE_mean': 0.23474849988231275,\n",
       " 'test_error_MAPE_std': 0.0914636326130568,\n",
       " 'agg_cv_error_MAPE_mean': 0.2104395867114743,\n",
       " 'agg_cv_error_MAPE_std': 0.03709059286078313,\n",
       " 'total_error_MAPE': 0.22259404329689353,\n",
       " 'total_std_MAPE': 0.06427711273691997,\n",
       " 'total_selling_greater_zero': 820,\n",
       " 'average_quantity': 4614.228158488885,\n",
       " 'rmse': 1640.2788770111838,\n",
       " 'best_for_cat': 0}"
      ]
     },
     "execution_count": 7,
     "metadata": {},
     "output_type": "execute_result"
    }
   ],
   "source": [
    "tmp[0]"
   ]
  },
  {
   "cell_type": "code",
   "execution_count": 54,
   "metadata": {},
   "outputs": [],
   "source": [
    "last_day = full_quantity_total_product.index[-1]"
   ]
  },
  {
   "cell_type": "code",
   "execution_count": 66,
   "metadata": {},
   "outputs": [],
   "source": [
    "result_forecast = []"
   ]
  },
  {
   "cell_type": "code",
   "execution_count": 71,
   "metadata": {},
   "outputs": [],
   "source": [
    "is_cal = {}"
   ]
  },
  {
   "cell_type": "code",
   "execution_count": null,
   "metadata": {},
   "outputs": [],
   "source": [
    "all_model = {'Average': AverageModel, 'Naive': NaiveModel, 'Drift': DriftModel, 'SeasonalNaive':SeasonalNaiveModel, \\\n",
    "                 'UpgradeSeason':UpgradeSeasonModel, 'StandardArima': StandardArimaModel, 'SES':SimpleExpSmothingModel, \\\n",
    "                 'Holt': HoltModel, 'HoltWinter': HoltWinterModel, 'DecomposeArima': DecomposeArimaModel, 'Sarimax':SarimaxModel}\n",
    "using_predictor_col = [SeasonalNaiveModel, UpgradeSeasonModel, SarimaxModel]\n",
    "for cat_model in tmp: \n",
    "    if cat_model['best_for_cat'] == 1:\n",
    "        if (cat_model['cat_id'] in is_cal):\n",
    "            continue\n",
    "        is_cal[cat_model['cat_id']] = True\n",
    "        t = d[(cat_model['cat_name'], cat_model['cat_id'])]\n",
    "        total_by_date = select_category(product_quantity_date, *t)\n",
    "        full_quantity_total_product = clean_data(total_by_date, last_day)\n",
    "        full_quantity_total_product = add_holiday(full_quantity_total_product, 'special_day.csv')\n",
    "        all_results = pd.DataFrame([], columns = ['model', 'test_error', 'test_total_error', 'avg_cv_error', 'total_error'])\n",
    "        model_class = all_model[cat_model['model']]\n",
    "        predictor_cols = []\n",
    "        if (model_class in using_predictor_col):\n",
    "            predictor_cols = [f'dow_{i}' for i in range(1, 7)] + [f'moy_{i}' for i in range(2, 13)]\n",
    "            predictor_cols = list(set(predictor_cols).intersection(set(full_quantity_total_product.columns)))\n",
    "        model = retrain(full_quantity_total_product, model_class)\n",
    "        output = open('models/' + cat_model['cat_id'] + '.pkl', 'wb')\n",
    "        pickle.dump(model, output)\n",
    "        date_range = pd.date_range(last_day + pd.Timedelta(days = 1),  last_day + pd.Timedelta(days = 30))\n",
    "        value_forecast = model.forecast(last_day + pd.Timedelta(days = 1), last_day + pd.Timedelta(days = 30)).round()\n",
    "        for date in date_range:\n",
    "            result = {'cat_id': cat_model['cat_id'], 'date': date, 'value_forecast': value_forecast.loc[date]}\n",
    "            result_forecast.append(result)"
   ]
  },
  {
   "cell_type": "code",
   "execution_count": 118,
   "metadata": {},
   "outputs": [
    {
     "data": {
      "text/plain": [
       "607.8666666666667"
      ]
     },
     "execution_count": 118,
     "metadata": {},
     "output_type": "execute_result"
    }
   ],
   "source": [
    "len(result_forecast)/30"
   ]
  },
  {
   "cell_type": "code",
   "execution_count": 122,
   "metadata": {},
   "outputs": [
    {
     "name": "stderr",
     "output_type": "stream",
     "text": [
      "INFO:elasticsearch:PUT http://192.168.0.178:9200/result_forecast_category [status:200 request:3.672s]\n",
      "INFO:elasticsearch:HEAD http://192.168.0.179:9200/result_forecast_category [status:200 request:0.001s]\n"
     ]
    },
    {
     "name": "stdout",
     "output_type": "stream",
     "text": [
      "Normal bulk\n"
     ]
    },
    {
     "name": "stderr",
     "output_type": "stream",
     "text": [
      "INFO:elasticsearch:POST http://192.168.0.178:9200/result_forecast_category/category/_bulk [status:200 request:3.096s]\n",
      "INFO:elasticsearch:POST http://192.168.0.179:9200/result_forecast_category/category/_bulk [status:200 request:0.147s]\n",
      "INFO:elasticsearch:POST http://192.168.0.178:9200/result_forecast_category/category/_bulk [status:200 request:0.180s]\n",
      "INFO:elasticsearch:POST http://192.168.0.179:9200/result_forecast_category/category/_bulk [status:200 request:0.132s]\n",
      "INFO:elasticsearch:POST http://192.168.0.178:9200/result_forecast_category/category/_bulk [status:200 request:0.122s]\n",
      "INFO:elasticsearch:POST http://192.168.0.179:9200/result_forecast_category/category/_bulk [status:200 request:0.118s]\n",
      "INFO:elasticsearch:POST http://192.168.0.178:9200/result_forecast_category/category/_bulk [status:200 request:0.108s]\n",
      "INFO:elasticsearch:POST http://192.168.0.179:9200/result_forecast_category/category/_bulk [status:200 request:0.117s]\n",
      "INFO:elasticsearch:POST http://192.168.0.178:9200/result_forecast_category/category/_bulk [status:200 request:0.112s]\n",
      "INFO:elasticsearch:POST http://192.168.0.179:9200/result_forecast_category/category/_bulk [status:200 request:0.103s]\n",
      "INFO:elasticsearch:POST http://192.168.0.178:9200/result_forecast_category/category/_bulk [status:200 request:0.121s]\n",
      "INFO:elasticsearch:POST http://192.168.0.179:9200/result_forecast_category/category/_bulk [status:200 request:0.112s]\n",
      "INFO:elasticsearch:POST http://192.168.0.178:9200/result_forecast_category/category/_bulk [status:200 request:0.115s]\n",
      "INFO:elasticsearch:POST http://192.168.0.179:9200/result_forecast_category/category/_bulk [status:200 request:0.125s]\n",
      "INFO:elasticsearch:POST http://192.168.0.178:9200/result_forecast_category/category/_bulk [status:200 request:0.116s]\n",
      "INFO:elasticsearch:POST http://192.168.0.179:9200/result_forecast_category/category/_bulk [status:200 request:0.126s]\n",
      "INFO:elasticsearch:POST http://192.168.0.178:9200/result_forecast_category/category/_bulk [status:200 request:0.125s]\n",
      "INFO:elasticsearch:POST http://192.168.0.179:9200/result_forecast_category/category/_bulk [status:200 request:0.118s]\n",
      "INFO:elasticsearch:POST http://192.168.0.178:9200/result_forecast_category/category/_bulk [status:200 request:0.123s]\n",
      "INFO:elasticsearch:POST http://192.168.0.179:9200/result_forecast_category/category/_bulk [status:200 request:0.118s]\n",
      "INFO:elasticsearch:POST http://192.168.0.178:9200/result_forecast_category/category/_bulk [status:200 request:0.115s]\n",
      "INFO:elasticsearch:POST http://192.168.0.179:9200/result_forecast_category/category/_bulk [status:200 request:0.118s]\n",
      "INFO:elasticsearch:POST http://192.168.0.178:9200/result_forecast_category/category/_bulk [status:200 request:0.115s]\n",
      "INFO:elasticsearch:POST http://192.168.0.179:9200/result_forecast_category/category/_bulk [status:200 request:0.108s]\n",
      "INFO:elasticsearch:POST http://192.168.0.178:9200/result_forecast_category/category/_bulk [status:200 request:0.139s]\n",
      "INFO:elasticsearch:POST http://192.168.0.179:9200/result_forecast_category/category/_bulk [status:200 request:0.109s]\n",
      "INFO:elasticsearch:POST http://192.168.0.178:9200/result_forecast_category/category/_bulk [status:200 request:0.109s]\n",
      "INFO:elasticsearch:POST http://192.168.0.179:9200/result_forecast_category/category/_bulk [status:200 request:0.110s]\n",
      "INFO:elasticsearch:POST http://192.168.0.178:9200/result_forecast_category/category/_bulk [status:200 request:0.107s]\n",
      "INFO:elasticsearch:POST http://192.168.0.179:9200/result_forecast_category/category/_bulk [status:200 request:0.111s]\n",
      "INFO:elasticsearch:POST http://192.168.0.178:9200/result_forecast_category/category/_bulk [status:200 request:0.109s]\n",
      "INFO:elasticsearch:POST http://192.168.0.179:9200/result_forecast_category/category/_bulk [status:200 request:0.133s]\n",
      "INFO:elasticsearch:POST http://192.168.0.178:9200/result_forecast_category/category/_bulk [status:200 request:0.108s]\n",
      "INFO:elasticsearch:POST http://192.168.0.179:9200/result_forecast_category/category/_bulk [status:200 request:0.141s]\n",
      "INFO:elasticsearch:POST http://192.168.0.178:9200/result_forecast_category/category/_bulk [status:200 request:0.216s]\n",
      "INFO:elasticsearch:POST http://192.168.0.179:9200/result_forecast_category/category/_bulk [status:200 request:0.256s]\n",
      "INFO:elasticsearch:POST http://192.168.0.178:9200/result_forecast_category/category/_bulk [status:200 request:0.218s]\n"
     ]
    }
   ],
   "source": [
    "to_elastic(result_forecast, 'result_forecast_category', 'category')"
   ]
  },
  {
   "cell_type": "code",
   "execution_count": null,
   "metadata": {},
   "outputs": [],
   "source": []
  },
  {
   "cell_type": "code",
   "execution_count": null,
   "metadata": {},
   "outputs": [],
   "source": []
  },
  {
   "cell_type": "code",
   "execution_count": null,
   "metadata": {},
   "outputs": [],
   "source": []
  },
  {
   "cell_type": "code",
   "execution_count": null,
   "metadata": {},
   "outputs": [],
   "source": []
  },
  {
   "cell_type": "code",
   "execution_count": null,
   "metadata": {},
   "outputs": [],
   "source": []
  },
  {
   "cell_type": "code",
   "execution_count": null,
   "metadata": {},
   "outputs": [],
   "source": []
  },
  {
   "cell_type": "code",
   "execution_count": null,
   "metadata": {},
   "outputs": [],
   "source": []
  },
  {
   "cell_type": "code",
   "execution_count": null,
   "metadata": {},
   "outputs": [],
   "source": []
  },
  {
   "cell_type": "code",
   "execution_count": null,
   "metadata": {},
   "outputs": [],
   "source": []
  },
  {
   "cell_type": "code",
   "execution_count": null,
   "metadata": {},
   "outputs": [],
   "source": []
  },
  {
   "cell_type": "code",
   "execution_count": null,
   "metadata": {},
   "outputs": [],
   "source": []
  },
  {
   "cell_type": "code",
   "execution_count": 21,
   "metadata": {},
   "outputs": [
    {
     "name": "stderr",
     "output_type": "stream",
     "text": [
      "INFO:elasticsearch:HEAD http://192.168.0.179:9200/category_forecast_result [status:200 request:0.019s]\n",
      "INFO:elasticsearch:DELETE http://192.168.0.178:9200/category_forecast_result [status:200 request:2.450s]\n",
      "INFO:elasticsearch:PUT http://192.168.0.179:9200/category_forecast_result [status:200 request:3.694s]\n",
      "INFO:elasticsearch:HEAD http://192.168.0.178:9200/category_forecast_result [status:200 request:0.001s]\n"
     ]
    },
    {
     "name": "stdout",
     "output_type": "stream",
     "text": [
      "Normal bulk\n"
     ]
    },
    {
     "name": "stderr",
     "output_type": "stream",
     "text": [
      "INFO:elasticsearch:POST http://192.168.0.179:9200/category_forecast_result/category_model/_bulk [status:200 request:3.008s]\n",
      "INFO:elasticsearch:POST http://192.168.0.178:9200/category_forecast_result/category_model/_bulk [status:200 request:0.248s]\n",
      "INFO:elasticsearch:POST http://192.168.0.179:9200/category_forecast_result/category_model/_bulk [status:200 request:0.122s]\n"
     ]
    }
   ],
   "source": [
    "to_elastic(flat_result_all_cat)"
   ]
  },
  {
   "cell_type": "code",
   "execution_count": null,
   "metadata": {},
   "outputs": [],
   "source": [
    "            \n",
    "#Retrain\n",
    "for cat in sort_cat_revenue[:100]:\n",
    "    cat = cat[0]\n",
    "    if cat[0][1] in seleted_models_cat:\n",
    "        model = retrain(full_quantity_total_product, selected_models_cat[cat[0][1]])\n",
    "        output = open('models/' + cat[0][1] + '.pkl', 'wb')\n",
    "        pickle.dump(model, output)"
   ]
  },
  {
   "cell_type": "code",
   "execution_count": 1,
   "metadata": {},
   "outputs": [
    {
     "ename": "NameError",
     "evalue": "name 'flat_result_all_cat' is not defined",
     "output_type": "error",
     "traceback": [
      "\u001b[0;31m---------------------------------------------------------------------------\u001b[0m",
      "\u001b[0;31mNameError\u001b[0m                                 Traceback (most recent call last)",
      "\u001b[0;32m<ipython-input-1-5373e33c63ed>\u001b[0m in \u001b[0;36m<module>\u001b[0;34m\u001b[0m\n\u001b[0;32m----> 1\u001b[0;31m \u001b[0mflat_result_all_cat\u001b[0m\u001b[0;34m\u001b[0m\u001b[0;34m\u001b[0m\u001b[0m\n\u001b[0m",
      "\u001b[0;31mNameError\u001b[0m: name 'flat_result_all_cat' is not defined"
     ]
    }
   ],
   "source": [
    "to_elastic"
   ]
  },
  {
   "cell_type": "code",
   "execution_count": null,
   "metadata": {},
   "outputs": [],
   "source": [
    "def tsplot(y, lags=None, figsize=(10, 8), style='bmh',title=''):\n",
    "    if not isinstance(y, pd.Series):\n",
    "        y = pd.Series(y)\n",
    "    with plt.style.context(style):    \n",
    "        fig = plt.figure(figsize=figsize)\n",
    "        #mpl.rcParams['font.family'] = 'Ubuntu Mono'\n",
    "        layout = (3, 2)\n",
    "        ts_ax = plt.subplot2grid(layout, (0, 0), colspan=2)\n",
    "        acf_ax = plt.subplot2grid(layout, (1, 0))\n",
    "        pacf_ax = plt.subplot2grid(layout, (1, 1))\n",
    "        qq_ax = plt.subplot2grid(layout, (2, 0))\n",
    "        pp_ax = plt.subplot2grid(layout, (2, 1))\n",
    "        \n",
    "        y.plot(ax=ts_ax)\n",
    "        ts_ax.set_title(title)\n",
    "        smt.graphics.plot_acf(y, lags=lags, ax=acf_ax, alpha=0.5)\n",
    "        smt.graphics.plot_pacf(y, lags=lags, ax=pacf_ax, alpha=0.5)\n",
    "        sm.qqplot(y, line='s', ax=qq_ax)\n",
    "        qq_ax.set_title('QQ Plot')        \n",
    "        scs.probplot(y, sparams=(y.mean(), y.std()), plot=pp_ax)\n",
    "\n",
    "        plt.tight_layout()\n",
    "    return "
   ]
  },
  {
   "cell_type": "code",
   "execution_count": null,
   "metadata": {},
   "outputs": [],
   "source": [
    "np.random.seed(1)\n",
    "n_samples = int(1000)\n",
    "a = 0.6\n",
    "x = w = np.random.normal(size = n_samples)\n",
    "for t in range(n_samples):\n",
    "    x[t] = w[t] + a * x[t - 1]\n",
    "limit = 12\n",
    "_ = tsplot(x, lags = limit, title = 'AR(1) process')"
   ]
  },
  {
   "cell_type": "code",
   "execution_count": null,
   "metadata": {},
   "outputs": [],
   "source": [
    "np.random.seed(2)\n",
    "n_samples = int(1000)\n",
    "a = [0.444, 0.333]\n",
    "x = w = np.random.normal(size = n_samples)\n",
    "for t in range(n_samples):\n",
    "    x[t] = w[t] + a[0] * x[t - 1] + a[1] * x[t - 2]\n",
    "_ = tsplot(x, lags = 12, title = 'AR(2) process')"
   ]
  },
  {
   "cell_type": "code",
   "execution_count": null,
   "metadata": {},
   "outputs": [],
   "source": [
    "n_samples = int(1000)\n",
    "b = 0.8\n",
    "w = np.random.randn(n_samples)\n",
    "x = np.random.randn(n_samples)\n",
    "for t in range(n_samples):\n",
    "    x[t] = w[t] + b * w[t - 1]\n",
    "_ = tsplot(x, lags = 12, title = 'MA(1) process')"
   ]
  },
  {
   "cell_type": "code",
   "execution_count": null,
   "metadata": {},
   "outputs": [],
   "source": [
    "np.random.seed(3)\n",
    "n_samples = int(1000)\n",
    "b = [0.6, 0.4]\n",
    "w = np.random.randn(n_samples)\n",
    "x = np.random.randn(n_samples)\n",
    "for t in range(n_samples):\n",
    "    x[t] = w[t] + b[0] * w[t - 1] + b[1] * w[t - 2]\n",
    "_ = tsplot(x, lags = 12, title = 'MA(2) process')"
   ]
  },
  {
   "cell_type": "code",
   "execution_count": null,
   "metadata": {},
   "outputs": [],
   "source": [
    "n_sample = 1000\n",
    "w = np.random.normal(size = n_sample)\n",
    "x = np.zeros(n_sample)\n",
    "for i in range(n_sample):\n",
    "    x[i] = 10 + w[i] + 0.7 * w[i - 1]"
   ]
  },
  {
   "cell_type": "code",
   "execution_count": null,
   "metadata": {},
   "outputs": [],
   "source": [
    "smt.graphics.plot_acf(x, lags = 20);"
   ]
  },
  {
   "cell_type": "code",
   "execution_count": null,
   "metadata": {},
   "outputs": [],
   "source": [
    "smt.graphics.plot_pacf(x, lags = 40)"
   ]
  },
  {
   "cell_type": "code",
   "execution_count": null,
   "metadata": {},
   "outputs": [],
   "source": [
    "plt.plot(x)"
   ]
  },
  {
   "cell_type": "code",
   "execution_count": null,
   "metadata": {},
   "outputs": [],
   "source": [
    "n_sample = 1000\n",
    "w = np.random.normal(size = n_sample)\n",
    "x = np.zeros(n_sample)\n",
    "for i in range(n_sample):\n",
    "    x[i] = 10 + w[i] + 0.7 * w[i - 1] + 0.7*w[i-5]\n",
    "smt.graphics.plot_acf(x, lags = 20);"
   ]
  }
 ],
 "metadata": {
  "kernelspec": {
   "display_name": "Python 3",
   "language": "python",
   "name": "python3"
  },
  "language_info": {
   "codemirror_mode": {
    "name": "ipython",
    "version": 3
   },
   "file_extension": ".py",
   "mimetype": "text/x-python",
   "name": "python",
   "nbconvert_exporter": "python",
   "pygments_lexer": "ipython3",
   "version": "3.6.7"
  }
 },
 "nbformat": 4,
 "nbformat_minor": 2
}
